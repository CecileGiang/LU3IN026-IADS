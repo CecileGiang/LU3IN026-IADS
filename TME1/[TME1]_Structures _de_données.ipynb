{
 "cells": [
  {
   "cell_type": "markdown",
   "metadata": {},
   "source": [
    "IA & Data science (LU3IN0226) -- 2019-2020\n",
    "--------\n",
    "*&copy; Equipe pédagogique: Gauvain Bourgne, Vincent Guigue, Marie-Jeanne Lesot, Christophe Marsala, Olivier Schwander.*"
   ]
  },
  {
   "cell_type": "markdown",
   "metadata": {},
   "source": [
    "# TD-TME01: structures de données\n",
    "\n",
    "L'objectif du TME est de se familiariser avec les structures de données utilisées pour les manipulations des données dans cette UE et d'implémenter les mesures vues en cours: moyenne, médiane, quartiles, corrélations. \n",
    "\n"
   ]
  },
  {
   "cell_type": "markdown",
   "metadata": {},
   "source": [
    "<font size=\"+1\" color=\"RED\">**[Q]**</font> **Indiquer dans la boîte ci-dessous vos noms et prénoms :**"
   ]
  },
  {
   "cell_type": "markdown",
   "metadata": {},
   "source": [
    "`GIANG Phuong-Thu, Cécile (n°3530406)`"
   ]
  },
  {
   "cell_type": "markdown",
   "metadata": {},
   "source": [
    "<font color=\"RED\" size=\"+1\">**[Q]**</font> **Renommer ce fichier ipython**\n",
    "\n",
    "Tout en haut de cette page, cliquer sur <tt>tme-01</tt> et rajouter à la suite de <tt>tme-01</tt> les noms des membres du binômes séparés par un tiret.\n",
    "\n",
    "Par exemple, pour le binôme Luke Skywalker et Han Solo, le nom de fichier devient : <pre>tme-01-Skywalker-Solo</pre>\n",
    "\n",
    "Penser à sauvegarder fréquemment le fichier en cours de travail :\n",
    "- soit en cliquant sur l'icône \"disquette\"\n",
    "- soit par la combinaison de touches [Ctrl]-S"
   ]
  },
  {
   "cell_type": "markdown",
   "metadata": {},
   "source": [
    "<font color=\"RED\" size=\"+1\">IMPORTANT: soumission de votre fichier final</font>\n",
    "\n",
    "**Nom à donner au fichier à poster** : *Nom1_Nom2.ipynb* \n",
    "- *Nom1* et *Nom2* : noms des membres du binôme\n",
    "- ne pas compresser ou faire une archive: il faut rendre le fichier ipython tel quel, éventuellement, si vous avez d'autres fichiers vous les rendez séparément.\n",
    "\n",
    "**Echancier pour la soumission de votre compte-rendu:**\n",
    "- le compte-rendu d'une séance doit être remis obligatoirement <font color=\"RED\">** à la fin de la séance**</font>. C'est ce compte-rendu qui donne la note de base de la séance.\n",
    "- vous pouvez éventuellement compléter votre compte-rendu  pour obtenir des points bonus, dans ce cas, vous devez soumettre votre complément avant le début de la semaine suivante.\n",
    "\n",
    "** Sur la page Moodle de remise du travail <font color=\"RED\">ne pas oublier d'envoyer le compte rendu</font>** à la fin de la séance, la soumission de la version complémentaire post-séance se fera sur une page différente."
   ]
  },
  {
   "cell_type": "markdown",
   "metadata": {},
   "source": [
    "## Présentation ##\n",
    "\n",
    "### Objectifs de ce TME 1\n",
    "\n",
    "Le travail à réaliser est le suivant :\n",
    "- apprendre à utiliser jupyter notebook\n",
    "- se documenter sur les structures de données qui seront utilisées pour programmer tout au long du semestre\n",
    "- implémenter des fonctions pour les mesures vues en cours "
   ]
  },
  {
   "cell_type": "markdown",
   "metadata": {},
   "source": [
    "## Apprendre à utiliser jupyter notebook\n",
    "\n",
    "Ce document est dynamique: il est composé de \"boîtes\" qui peuvent être \"compilées\" par la commande \"Run Cells\" du menu \"Cell\" (ou bien en cliquant sur l'icône >| ou par la combinaison des touches [SHIFT][ENTREE]).\n",
    "\n",
    "Il y a **2 types principaux** de boîtes :\n",
    "- les boîtes \"Markdown\": tout ce qui est tapé dans ces boîtes est du texte qui sera rendu \"joliment\" après avoir été compilé. On peut y écrire des commandes en Latex pour définir des équations, et il reconnaît certaines balises HTML. En cliquant 2 fois dans une boîte Markdown compilée, on a accès à son contenu et on peut alors le modifier.\n",
    "- les boîtes \"Code\": dans ces boîtes, on écrit du code Python. La compilation de la boîte produit l'exécution de ce code Python et produit une boîte \"Out\" dans laquelle le résultat de la dernière commande est affiché. On peut y écrire tout code Python valide. Ce type de boîtes se reconnaît par \"In [n]\" inscrit à côté de leur coin haut gauche (\"n\" est un entier).\n",
    "\n",
    "Le type d'une boîte peut être modifié à l'aide du menu en haut de la page (juste au dessus du texte).\n",
    "\n",
    "L'icône \"+\" permet de créer une nouvelle boîte juste en dessous de la boîte active.\n",
    "\n",
    "L'icône avec les ciseaux permet d'effacer la boîte active (attention ! c'est **irréversible !**).\n",
    "\n",
    "Pour en savoir plus :\n",
    "- http://ipython.org/\n",
    "\n",
    "Vous pouvez aussi vous référer à la documentation Python:\n",
    "- https://www.python.org/\n",
    "\n",
    "\n",
    "Dans ce qui suit, les boîtes Markdown commençant par <font color=\"RED\" size=\"+1\">**[Q]**</font> posent des questions auxquelles il faut répondre dans la boîte qui suit directement (éventuellement, en créant des nouvelles boîtes de type \"Code\" ou \"Markdown\", à votre convenance).\n",
    "Certaines des boîtes \"Code\" à remplir sont suivies d'une sortie \"Out[.]:\" qui montre un exemple de résultat attendu. \n",
    "\n",
    "N'hésitez pas à créer de nouvelles boîtes \"Code\" ou \"Markdown\" dans ce document si vous en avez besoin.\n"
   ]
  },
  {
   "cell_type": "code",
   "execution_count": 1,
   "metadata": {},
   "outputs": [
    {
     "name": "stdout",
     "output_type": "stream",
     "text": [
      "Un essai quelconque :\n"
     ]
    },
    {
     "data": {
      "text/plain": [
       "5"
      ]
     },
     "execution_count": 1,
     "metadata": {},
     "output_type": "execute_result"
    }
   ],
   "source": [
    "# exemple de boîte de code :\n",
    "#    --> sélectionner cette boîte (en cliquant à l'intérieur)\n",
    "#    --> effectuer \"Run Cells\" du Menu \"Cell\" (ou bien cliquer sur l'icône >|)\n",
    "# \n",
    "\n",
    "print(\"Un essai quelconque :\")\n",
    "2+3\n"
   ]
  },
  {
   "cell_type": "markdown",
   "metadata": {},
   "source": [
    "<font color=\"RED\" size=\"+1\">**[Q]**</font> Dans la boîte \"Code\" suivante, donner les instructions Python pour effectuer le calcul : \n",
    "$$-\\frac{1}{3}\\log_2(\\frac{1}{3})-\\frac{2}{3}\\log_2(\\frac{2}{3})$$\n",
    "\n",
    "Dont la valeur à trouver est :\n",
    "    0.9182958340544896"
   ]
  },
  {
   "cell_type": "code",
   "execution_count": 2,
   "metadata": {},
   "outputs": [
    {
     "data": {
      "text/plain": [
       "0.9182958340544896"
      ]
     },
     "execution_count": 2,
     "metadata": {},
     "output_type": "execute_result"
    }
   ],
   "source": [
    "import math\n",
    "\n",
    "-(1/3)*math.log(1/3,2)-(2/3)*math.log(2/3,2)"
   ]
  },
  {
   "cell_type": "markdown",
   "metadata": {},
   "source": [
    "**<font style=\"BACKGROUND-COLOR: lightgray\" color='red'> Important</font>** :\n",
    "en lisant le texte d'un fichier jupyter sur votre ordinateur, pensez bien à exécuter les boîtes \"Code\" dans l'ordre de leur apparition. Toute la page se comporte comme une session Python unique et il pour exécuter certaines boîtes il est nécessaire que les précédentes aient été exécutées au préalable."
   ]
  },
  {
   "cell_type": "markdown",
   "metadata": {},
   "source": [
    "<font color=\"RED\" size=\"+1\">**[Q]**</font> Dans la boîte \"Code\" suivante, écrire la fonction <tt>calcul</tt> qui, étant donné un réel $x$ de [0,1] rend la valeur du calcul $$-x\\log_2(x)-(1-x)\\log_2(1-x)$$ si $x\\not= 0$ et $x \\not= 1$ ou la valeur $0.0$ sinon."
   ]
  },
  {
   "cell_type": "code",
   "execution_count": 3,
   "metadata": {},
   "outputs": [],
   "source": [
    "def calcul(x):\n",
    "    if x in {0,1}:\n",
    "        return 0.0\n",
    "    return -x*math.log(x,2)-(1-x)*math.log(1-x,2)"
   ]
  },
  {
   "cell_type": "code",
   "execution_count": 4,
   "metadata": {},
   "outputs": [
    {
     "data": {
      "text/plain": [
       "0.0"
      ]
     },
     "execution_count": 4,
     "metadata": {},
     "output_type": "execute_result"
    }
   ],
   "source": [
    "calcul(0)"
   ]
  },
  {
   "cell_type": "code",
   "execution_count": 5,
   "metadata": {},
   "outputs": [
    {
     "data": {
      "text/plain": [
       "0.9182958340544896"
      ]
     },
     "execution_count": 5,
     "metadata": {},
     "output_type": "execute_result"
    }
   ],
   "source": [
    "calcul(1/3)"
   ]
  },
  {
   "cell_type": "code",
   "execution_count": 6,
   "metadata": {},
   "outputs": [
    {
     "data": {
      "text/plain": [
       "1.0"
      ]
     },
     "execution_count": 6,
     "metadata": {},
     "output_type": "execute_result"
    }
   ],
   "source": [
    "calcul(0.5)"
   ]
  },
  {
   "cell_type": "markdown",
   "metadata": {},
   "source": [
    "## Documentation\n",
    "\n",
    "\n",
    "Dans un premier temps, vous devez prendre en main les libraries **numpy**, **pandas** et **matplotlib**:\n",
    "\n",
    "- Numpy = <http://scipy.github.io/old-wiki/pages/Tentative_NumPy_Tutorial>\n",
    "- Pandas = http://pandas.pydata.org/pandas-docs/stable/10min.html\n",
    "- Matplotlib = https://matplotlib.org/1.3.1/users/pyplot_tutorial.html\n",
    "\n",
    "Lisez ces pages et pratiquez ces tutoriaux afin de bien vous familiariser avec ces outils."
   ]
  },
  {
   "cell_type": "markdown",
   "metadata": {},
   "source": [
    "<font color=\"RED\" size=\"+1\">**[Q]**</font> Donner dans la boîte suivante les grandes caractéristiques de chacunes de ces 3 librairies: A quoi servent-elles ? Que permettent-elles de représenter ? Quelle est leur utilité et leurs spécificités ? etc. etc.\n",
    "\n",
    "Donner des exemples de leurs utilisations spécifiques."
   ]
  },
  {
   "cell_type": "markdown",
   "metadata": {},
   "source": [
    "**Réponse:**\n",
    "\n",
    "- **Numpy :** cette librairie gère principalement des matrices.\n",
    "Elle apporte de nombreuses fonctions facilitant leur utilisation.\n",
    "On peut par exemple créer facilement une matrice avec la méthode `numpy.array`, réaliser un produit matriciel avec `numpy.dot`, etc...\n",
    "Elle permet également l'utilisation de fonctions mathématiques sur les matrices (`numpy.cos`, `numpy.sin`, `numpy.exp`, ...).\n",
    "\n",
    "- **Pandas :** Pandas promet une gestion flexible et intuitive de nombreuses structures de données.\n",
    "On distingue les `Series` qui sont des structures à 1 dimension (donc typiquement les tableaux classiques) et les `DataFrame`, catégorie regroupant les structures à 2 dimensions (matrices, dictionnaires, etc...).\n",
    "Cette librairie est puissante car elle permet par exemple de créer une matrice d'éléments de type différent (alors qu'un `numpy.array` n'a que des éléments d'un seul type), de nommer les colonnes et les lignes, de la trier et de faire des filtrages efficaces de valeurs à la manière des bases de données.\n",
    "\n",
    "- **Matplotlib :** Cette librairie permet de réaliser toute sorte d'opérations graphiques à la MATLAB.\n",
    "On peut tracer des courbes à partir de tableaux, légender les axes, modifier le style de ces courbes, etc..."
   ]
  },
  {
   "cell_type": "markdown",
   "metadata": {},
   "source": [
    "Pour utiliser les 3 librairies précédentes, vous devrez d'abord les importer dans Jupyter par les commandes données dans la boite suivante.\n",
    "\n",
    "Si une librairie n'est pas installée, une erreur peut se produire lors de son import. Il est alors nécessaire de l'installer. Par exemple, pour la librairie pandas sur les machines de la PPTI:\n",
    "- dans un terminal, exécuter la commande:\n",
    "    \n",
    "        pip install --user -U --proxy http://proxy:3128 pandas\n",
    "\n",
    "(le proxy n'est nécessaire que pour les salles machines, vous n'avez pas à l'utiliser sur vos machines personnelles).\n",
    "- une fois la librairie installée, il est nécessaire de relancer le noyau Python de Jupyter:\n",
    "    dans le menu de Jupyter tout en haut de la page, choisir \"<tt>Kernel -> restart</tt>\"\n",
    "    \n"
   ]
  },
  {
   "cell_type": "code",
   "execution_count": 7,
   "metadata": {},
   "outputs": [],
   "source": [
    "import numpy as np\n",
    "import pandas as pd\n",
    "from datetime import datetime as dt\n",
    "import matplotlib.pyplot as plt\n",
    "%matplotlib inline  "
   ]
  },
  {
   "cell_type": "markdown",
   "metadata": {},
   "source": [
    "## Programmation et expérimentation ##\n",
    "\n",
    "Le jeu de données (ou *dataset*) qui sera utilisé dans cette séance pour valider vos fonctions correspond à des données concernant des prix dans différents états d'Amérique du Nord. \n",
    "\n",
    "\n",
    "La référence de ce dataset est disponible ici : <https://github.com/amitkaps/weed/blob/master/1-Acquire.ipynb>\n",
    "\n",
    "Ces données sont aussi fournies dans le fichier <tt>data-01.zip</tt> à télécharger sur le site Moodle.\n",
    "\n",
    "Elles se composent de trois fichiers:\n",
    "* <tt>\"data-01/Weed_Price.csv\"</tt>: prix par date et par état (pour trois qualités différentes)\n",
    "* <tt>\"data-01/Demographics_State.csv\"</tt>: informations démographiques sur chaque état\n",
    "* <tt>\"data-01/Population_State.csv\"</tt>: population de chaque état\n",
    "\n",
    "La première étape est de télécharger ces fichiers dans des dataframes pandas.\n",
    "\n",
    "Comme ce sont des fichiers <a href=\"https://fr.wikipedia.org/wiki/Comma-separated_values\"><tt>CSV</tt></a>, on utilise la librairie Pandas qui contient une fonction de lecture de tels types de fichiers."
   ]
  },
  {
   "cell_type": "code",
   "execution_count": 8,
   "metadata": {},
   "outputs": [],
   "source": [
    "# Chargement des fichiers de données :\n",
    "\n",
    "prices_pd = pd.read_csv(\"data-01/Weed_Price.csv\", parse_dates=[-1])\n",
    "demography_pd = pd.read_csv(\"data-01/Demographics_State.csv\")\n",
    "population_pd = pd.read_csv(\"data-01/Population_State.csv\")"
   ]
  },
  {
   "cell_type": "markdown",
   "metadata": {},
   "source": [
    "<font color=\"RED\" size=\"+1\">**[Q]**</font> **Des dataframes**\n",
    "Commencer par regarder la documentation de la fonction <tt>read_csv</tt> de la librairie Pandas. Que rend cette fonction (quel est le type de ce qui est rendu) ?"
   ]
  },
  {
   "cell_type": "markdown",
   "metadata": {},
   "source": [
    "**Réponse:** La fonction `read_csv` rend des objets de type `DataFrame`"
   ]
  },
  {
   "cell_type": "markdown",
   "metadata": {},
   "source": [
    "<font color=\"RED\" size=\"+1\">**[Q]**</font> **Des dataframes**\n",
    "\n",
    "Les dataframes Pandas permettent de stocker ensemble des données dont les valeurs peuvent être différentes. Cela peut s'apparenter à une feuille Excel : chaque ligne correspond à une même donnée (un \"exemple\") et contient dans chaque colonne des valeurs qui peuvent être de différents types.\n",
    "\n",
    "Examiner le type des trois variables qui viennent d'être définies. Pour cela, utiliser la fonction <tt>type</tt> de Python: par exemple <tt>type(prices_pd)</tt>."
   ]
  },
  {
   "cell_type": "code",
   "execution_count": 9,
   "metadata": {},
   "outputs": [
    {
     "data": {
      "text/plain": [
       "pandas.core.frame.DataFrame"
      ]
     },
     "execution_count": 9,
     "metadata": {},
     "output_type": "execute_result"
    }
   ],
   "source": [
    "# type de prices_pd:\n",
    "\n",
    "type(prices_pd)"
   ]
  },
  {
   "cell_type": "code",
   "execution_count": 10,
   "metadata": {},
   "outputs": [
    {
     "data": {
      "text/plain": [
       "pandas.core.frame.DataFrame"
      ]
     },
     "execution_count": 10,
     "metadata": {},
     "output_type": "execute_result"
    }
   ],
   "source": [
    "# type de demography_pd\n",
    "\n",
    "type(demography_pd)"
   ]
  },
  {
   "cell_type": "code",
   "execution_count": 11,
   "metadata": {},
   "outputs": [
    {
     "data": {
      "text/plain": [
       "pandas.core.frame.DataFrame"
      ]
     },
     "execution_count": 11,
     "metadata": {},
     "output_type": "execute_result"
    }
   ],
   "source": [
    "# type de population_pd\n",
    "\n",
    "type(population_pd)"
   ]
  },
  {
   "cell_type": "markdown",
   "metadata": {},
   "source": [
    "**Important**: chaque fois que vous utilisez une commande, regardez le type du résultat obtenu (liste, DataFrame, Series, array,...) cela vous permettra de savoir ce que vous pouvez appliquer sur ce résultat."
   ]
  },
  {
   "cell_type": "markdown",
   "metadata": {},
   "source": [
    "<font color=\"RED\" size=\"+1\">**[Q]**</font> **En savoir plus sur les données...**\n",
    "\n",
    "* Commencer par se familiariser avec les données en les visualisant et en affichant des exemples de lignes ou de colonnes que ces DataFrames contiennent. Pour cela, manipuler les fonctions des librairies que vous venez de découvrir (par exemple, <tt>head()</tt>, <tt>tail()</tt>, ...)."
   ]
  },
  {
   "cell_type": "code",
   "execution_count": 12,
   "metadata": {},
   "outputs": [
    {
     "data": {
      "text/html": [
       "<div>\n",
       "<style scoped>\n",
       "    .dataframe tbody tr th:only-of-type {\n",
       "        vertical-align: middle;\n",
       "    }\n",
       "\n",
       "    .dataframe tbody tr th {\n",
       "        vertical-align: top;\n",
       "    }\n",
       "\n",
       "    .dataframe thead th {\n",
       "        text-align: right;\n",
       "    }\n",
       "</style>\n",
       "<table border=\"1\" class=\"dataframe\">\n",
       "  <thead>\n",
       "    <tr style=\"text-align: right;\">\n",
       "      <th></th>\n",
       "      <th>State</th>\n",
       "      <th>HighQ</th>\n",
       "      <th>HighQN</th>\n",
       "      <th>MedQ</th>\n",
       "      <th>MedQN</th>\n",
       "      <th>LowQ</th>\n",
       "      <th>LowQN</th>\n",
       "      <th>date</th>\n",
       "    </tr>\n",
       "  </thead>\n",
       "  <tbody>\n",
       "    <tr>\n",
       "      <th>0</th>\n",
       "      <td>Alabama</td>\n",
       "      <td>339.06</td>\n",
       "      <td>1042</td>\n",
       "      <td>198.64</td>\n",
       "      <td>933</td>\n",
       "      <td>149.49</td>\n",
       "      <td>123</td>\n",
       "      <td>2014-01-01</td>\n",
       "    </tr>\n",
       "    <tr>\n",
       "      <th>1</th>\n",
       "      <td>Alaska</td>\n",
       "      <td>288.75</td>\n",
       "      <td>252</td>\n",
       "      <td>260.60</td>\n",
       "      <td>297</td>\n",
       "      <td>388.58</td>\n",
       "      <td>26</td>\n",
       "      <td>2014-01-01</td>\n",
       "    </tr>\n",
       "    <tr>\n",
       "      <th>2</th>\n",
       "      <td>Arizona</td>\n",
       "      <td>303.31</td>\n",
       "      <td>1941</td>\n",
       "      <td>209.35</td>\n",
       "      <td>1625</td>\n",
       "      <td>189.45</td>\n",
       "      <td>222</td>\n",
       "      <td>2014-01-01</td>\n",
       "    </tr>\n",
       "    <tr>\n",
       "      <th>3</th>\n",
       "      <td>Arkansas</td>\n",
       "      <td>361.85</td>\n",
       "      <td>576</td>\n",
       "      <td>185.62</td>\n",
       "      <td>544</td>\n",
       "      <td>125.87</td>\n",
       "      <td>112</td>\n",
       "      <td>2014-01-01</td>\n",
       "    </tr>\n",
       "    <tr>\n",
       "      <th>4</th>\n",
       "      <td>California</td>\n",
       "      <td>248.78</td>\n",
       "      <td>12096</td>\n",
       "      <td>193.56</td>\n",
       "      <td>12812</td>\n",
       "      <td>192.92</td>\n",
       "      <td>778</td>\n",
       "      <td>2014-01-01</td>\n",
       "    </tr>\n",
       "    <tr>\n",
       "      <th>5</th>\n",
       "      <td>Colorado</td>\n",
       "      <td>236.31</td>\n",
       "      <td>2161</td>\n",
       "      <td>195.29</td>\n",
       "      <td>1728</td>\n",
       "      <td>213.50</td>\n",
       "      <td>128</td>\n",
       "      <td>2014-01-01</td>\n",
       "    </tr>\n",
       "    <tr>\n",
       "      <th>6</th>\n",
       "      <td>Connecticut</td>\n",
       "      <td>347.90</td>\n",
       "      <td>1294</td>\n",
       "      <td>273.97</td>\n",
       "      <td>1316</td>\n",
       "      <td>257.36</td>\n",
       "      <td>91</td>\n",
       "      <td>2014-01-01</td>\n",
       "    </tr>\n",
       "    <tr>\n",
       "      <th>7</th>\n",
       "      <td>Delaware</td>\n",
       "      <td>373.18</td>\n",
       "      <td>347</td>\n",
       "      <td>226.25</td>\n",
       "      <td>273</td>\n",
       "      <td>199.88</td>\n",
       "      <td>34</td>\n",
       "      <td>2014-01-01</td>\n",
       "    </tr>\n",
       "    <tr>\n",
       "      <th>8</th>\n",
       "      <td>District of Columbia</td>\n",
       "      <td>352.26</td>\n",
       "      <td>433</td>\n",
       "      <td>295.67</td>\n",
       "      <td>349</td>\n",
       "      <td>213.72</td>\n",
       "      <td>39</td>\n",
       "      <td>2014-01-01</td>\n",
       "    </tr>\n",
       "    <tr>\n",
       "      <th>9</th>\n",
       "      <td>Florida</td>\n",
       "      <td>306.43</td>\n",
       "      <td>6506</td>\n",
       "      <td>220.03</td>\n",
       "      <td>5237</td>\n",
       "      <td>158.26</td>\n",
       "      <td>514</td>\n",
       "      <td>2014-01-01</td>\n",
       "    </tr>\n",
       "    <tr>\n",
       "      <th>10</th>\n",
       "      <td>Georgia</td>\n",
       "      <td>332.21</td>\n",
       "      <td>3099</td>\n",
       "      <td>213.52</td>\n",
       "      <td>2269</td>\n",
       "      <td>153.45</td>\n",
       "      <td>229</td>\n",
       "      <td>2014-01-01</td>\n",
       "    </tr>\n",
       "    <tr>\n",
       "      <th>11</th>\n",
       "      <td>Hawaii</td>\n",
       "      <td>310.96</td>\n",
       "      <td>328</td>\n",
       "      <td>270.38</td>\n",
       "      <td>350</td>\n",
       "      <td>160.46</td>\n",
       "      <td>25</td>\n",
       "      <td>2014-01-01</td>\n",
       "    </tr>\n",
       "    <tr>\n",
       "      <th>12</th>\n",
       "      <td>Idaho</td>\n",
       "      <td>276.05</td>\n",
       "      <td>315</td>\n",
       "      <td>254.96</td>\n",
       "      <td>445</td>\n",
       "      <td>132.61</td>\n",
       "      <td>20</td>\n",
       "      <td>2014-01-01</td>\n",
       "    </tr>\n",
       "    <tr>\n",
       "      <th>13</th>\n",
       "      <td>Illinois</td>\n",
       "      <td>359.74</td>\n",
       "      <td>4008</td>\n",
       "      <td>287.23</td>\n",
       "      <td>3644</td>\n",
       "      <td>181.25</td>\n",
       "      <td>329</td>\n",
       "      <td>2014-01-01</td>\n",
       "    </tr>\n",
       "    <tr>\n",
       "      <th>14</th>\n",
       "      <td>Indiana</td>\n",
       "      <td>336.80</td>\n",
       "      <td>1665</td>\n",
       "      <td>206.24</td>\n",
       "      <td>1446</td>\n",
       "      <td>154.05</td>\n",
       "      <td>248</td>\n",
       "      <td>2014-01-01</td>\n",
       "    </tr>\n",
       "  </tbody>\n",
       "</table>\n",
       "</div>"
      ],
      "text/plain": [
       "                   State   HighQ  HighQN    MedQ  MedQN    LowQ  LowQN  \\\n",
       "0                Alabama  339.06    1042  198.64    933  149.49    123   \n",
       "1                 Alaska  288.75     252  260.60    297  388.58     26   \n",
       "2                Arizona  303.31    1941  209.35   1625  189.45    222   \n",
       "3               Arkansas  361.85     576  185.62    544  125.87    112   \n",
       "4             California  248.78   12096  193.56  12812  192.92    778   \n",
       "5               Colorado  236.31    2161  195.29   1728  213.50    128   \n",
       "6            Connecticut  347.90    1294  273.97   1316  257.36     91   \n",
       "7               Delaware  373.18     347  226.25    273  199.88     34   \n",
       "8   District of Columbia  352.26     433  295.67    349  213.72     39   \n",
       "9                Florida  306.43    6506  220.03   5237  158.26    514   \n",
       "10               Georgia  332.21    3099  213.52   2269  153.45    229   \n",
       "11                Hawaii  310.96     328  270.38    350  160.46     25   \n",
       "12                 Idaho  276.05     315  254.96    445  132.61     20   \n",
       "13              Illinois  359.74    4008  287.23   3644  181.25    329   \n",
       "14               Indiana  336.80    1665  206.24   1446  154.05    248   \n",
       "\n",
       "         date  \n",
       "0  2014-01-01  \n",
       "1  2014-01-01  \n",
       "2  2014-01-01  \n",
       "3  2014-01-01  \n",
       "4  2014-01-01  \n",
       "5  2014-01-01  \n",
       "6  2014-01-01  \n",
       "7  2014-01-01  \n",
       "8  2014-01-01  \n",
       "9  2014-01-01  \n",
       "10 2014-01-01  \n",
       "11 2014-01-01  \n",
       "12 2014-01-01  \n",
       "13 2014-01-01  \n",
       "14 2014-01-01  "
      ]
     },
     "execution_count": 12,
     "metadata": {},
     "output_type": "execute_result"
    }
   ],
   "source": [
    "# 15 premières lignes de prices_pd\n",
    "\n",
    "prices_pd.head(15)"
   ]
  },
  {
   "cell_type": "code",
   "execution_count": 13,
   "metadata": {},
   "outputs": [
    {
     "data": {
      "text/html": [
       "<div>\n",
       "<style scoped>\n",
       "    .dataframe tbody tr th:only-of-type {\n",
       "        vertical-align: middle;\n",
       "    }\n",
       "\n",
       "    .dataframe tbody tr th {\n",
       "        vertical-align: top;\n",
       "    }\n",
       "\n",
       "    .dataframe thead th {\n",
       "        text-align: right;\n",
       "    }\n",
       "</style>\n",
       "<table border=\"1\" class=\"dataframe\">\n",
       "  <thead>\n",
       "    <tr style=\"text-align: right;\">\n",
       "      <th></th>\n",
       "      <th>State</th>\n",
       "      <th>HighQ</th>\n",
       "      <th>HighQN</th>\n",
       "      <th>MedQ</th>\n",
       "      <th>MedQN</th>\n",
       "      <th>LowQ</th>\n",
       "      <th>LowQN</th>\n",
       "      <th>date</th>\n",
       "    </tr>\n",
       "  </thead>\n",
       "  <tbody>\n",
       "    <tr>\n",
       "      <th>22892</th>\n",
       "      <td>Utah</td>\n",
       "      <td>290.42</td>\n",
       "      <td>959</td>\n",
       "      <td>238.08</td>\n",
       "      <td>1055</td>\n",
       "      <td>NaN</td>\n",
       "      <td>62</td>\n",
       "      <td>2014-12-31</td>\n",
       "    </tr>\n",
       "    <tr>\n",
       "      <th>22893</th>\n",
       "      <td>Vermont</td>\n",
       "      <td>371.23</td>\n",
       "      <td>357</td>\n",
       "      <td>308.86</td>\n",
       "      <td>367</td>\n",
       "      <td>NaN</td>\n",
       "      <td>32</td>\n",
       "      <td>2014-12-31</td>\n",
       "    </tr>\n",
       "    <tr>\n",
       "      <th>22894</th>\n",
       "      <td>Virginia</td>\n",
       "      <td>364.98</td>\n",
       "      <td>3513</td>\n",
       "      <td>293.12</td>\n",
       "      <td>3079</td>\n",
       "      <td>NaN</td>\n",
       "      <td>284</td>\n",
       "      <td>2014-12-31</td>\n",
       "    </tr>\n",
       "    <tr>\n",
       "      <th>22895</th>\n",
       "      <td>Washington</td>\n",
       "      <td>233.05</td>\n",
       "      <td>3337</td>\n",
       "      <td>189.92</td>\n",
       "      <td>3562</td>\n",
       "      <td>NaN</td>\n",
       "      <td>160</td>\n",
       "      <td>2014-12-31</td>\n",
       "    </tr>\n",
       "    <tr>\n",
       "      <th>22896</th>\n",
       "      <td>West Virginia</td>\n",
       "      <td>359.35</td>\n",
       "      <td>551</td>\n",
       "      <td>224.03</td>\n",
       "      <td>545</td>\n",
       "      <td>NaN</td>\n",
       "      <td>60</td>\n",
       "      <td>2014-12-31</td>\n",
       "    </tr>\n",
       "    <tr>\n",
       "      <th>22897</th>\n",
       "      <td>Wisconsin</td>\n",
       "      <td>350.52</td>\n",
       "      <td>2244</td>\n",
       "      <td>272.71</td>\n",
       "      <td>2221</td>\n",
       "      <td>NaN</td>\n",
       "      <td>167</td>\n",
       "      <td>2014-12-31</td>\n",
       "    </tr>\n",
       "    <tr>\n",
       "      <th>22898</th>\n",
       "      <td>Wyoming</td>\n",
       "      <td>322.27</td>\n",
       "      <td>131</td>\n",
       "      <td>351.86</td>\n",
       "      <td>197</td>\n",
       "      <td>NaN</td>\n",
       "      <td>12</td>\n",
       "      <td>2014-12-31</td>\n",
       "    </tr>\n",
       "  </tbody>\n",
       "</table>\n",
       "</div>"
      ],
      "text/plain": [
       "               State   HighQ  HighQN    MedQ  MedQN  LowQ  LowQN       date\n",
       "22892           Utah  290.42     959  238.08   1055   NaN     62 2014-12-31\n",
       "22893        Vermont  371.23     357  308.86    367   NaN     32 2014-12-31\n",
       "22894       Virginia  364.98    3513  293.12   3079   NaN    284 2014-12-31\n",
       "22895     Washington  233.05    3337  189.92   3562   NaN    160 2014-12-31\n",
       "22896  West Virginia  359.35     551  224.03    545   NaN     60 2014-12-31\n",
       "22897      Wisconsin  350.52    2244  272.71   2221   NaN    167 2014-12-31\n",
       "22898        Wyoming  322.27     131  351.86    197   NaN     12 2014-12-31"
      ]
     },
     "execution_count": 13,
     "metadata": {},
     "output_type": "execute_result"
    }
   ],
   "source": [
    "# 7 dernières lignes de prices_pd\n",
    "\n",
    "prices_pd.tail(7)"
   ]
  },
  {
   "cell_type": "markdown",
   "metadata": {},
   "source": [
    "Les types des données peuvent être récupérés à travers la méthode <tt>dtypes</tt>:"
   ]
  },
  {
   "cell_type": "code",
   "execution_count": 14,
   "metadata": {},
   "outputs": [
    {
     "data": {
      "text/plain": [
       "State             object\n",
       "HighQ            float64\n",
       "HighQN             int64\n",
       "MedQ             float64\n",
       "MedQN              int64\n",
       "LowQ             float64\n",
       "LowQN              int64\n",
       "date      datetime64[ns]\n",
       "dtype: object"
      ]
     },
     "execution_count": 14,
     "metadata": {},
     "output_type": "execute_result"
    }
   ],
   "source": [
    "prices_pd.dtypes"
   ]
  },
  {
   "cell_type": "markdown",
   "metadata": {},
   "source": [
    "Il y a beaucoup de fonctions à découvrir pour obtenir des informations utiles sur les DataFrames. Par exemple, la liste des états peut être obtenue ainsi:\n"
   ]
  },
  {
   "cell_type": "code",
   "execution_count": 15,
   "metadata": {},
   "outputs": [],
   "source": [
    "les_etats = np.unique(prices_pd['State'].values)"
   ]
  },
  {
   "cell_type": "code",
   "execution_count": 16,
   "metadata": {},
   "outputs": [
    {
     "data": {
      "text/plain": [
       "array(['Alabama', 'Alaska', 'Arizona', 'Arkansas', 'California',\n",
       "       'Colorado', 'Connecticut', 'Delaware', 'District of Columbia',\n",
       "       'Florida', 'Georgia', 'Hawaii', 'Idaho', 'Illinois', 'Indiana',\n",
       "       'Iowa', 'Kansas', 'Kentucky', 'Louisiana', 'Maine', 'Maryland',\n",
       "       'Massachusetts', 'Michigan', 'Minnesota', 'Mississippi',\n",
       "       'Missouri', 'Montana', 'Nebraska', 'Nevada', 'New Hampshire',\n",
       "       'New Jersey', 'New Mexico', 'New York', 'North Carolina',\n",
       "       'North Dakota', 'Ohio', 'Oklahoma', 'Oregon', 'Pennsylvania',\n",
       "       'Rhode Island', 'South Carolina', 'South Dakota', 'Tennessee',\n",
       "       'Texas', 'Utah', 'Vermont', 'Virginia', 'Washington',\n",
       "       'West Virginia', 'Wisconsin', 'Wyoming'], dtype=object)"
      ]
     },
     "execution_count": 16,
     "metadata": {},
     "output_type": "execute_result"
    }
   ],
   "source": [
    "# Afficher la liste des états :\n",
    "\n",
    "les_etats"
   ]
  },
  {
   "cell_type": "markdown",
   "metadata": {},
   "source": [
    "Comparer le nombre de valeurs de :\n",
    "\n",
    "        prices_pd[\"MedQ\"].values\n",
    "\n",
    "et de \n",
    "\n",
    "        np.unique(prices_pd[\"MedQ\"].values\n",
    "\n",
    "Expliquer ce qui se passe.        "
   ]
  },
  {
   "cell_type": "code",
   "execution_count": 17,
   "metadata": {},
   "outputs": [
    {
     "data": {
      "text/plain": [
       "22899"
      ]
     },
     "execution_count": 17,
     "metadata": {},
     "output_type": "execute_result"
    }
   ],
   "source": [
    "# Nombre de valeurs de prices_pd[\"MedQ\"].values:\n",
    "\n",
    "len(prices_pd['MedQ'].values)"
   ]
  },
  {
   "cell_type": "code",
   "execution_count": 18,
   "metadata": {},
   "outputs": [
    {
     "data": {
      "text/plain": [
       "7776"
      ]
     },
     "execution_count": 18,
     "metadata": {},
     "output_type": "execute_result"
    }
   ],
   "source": [
    "# Nombre de valeurs de np.unique(prices_pd[\"MedQ\"].values):\n",
    "\n",
    "len(np.unique(prices_pd['MedQ'].values))"
   ]
  },
  {
   "cell_type": "markdown",
   "metadata": {},
   "source": [
    "**Réponse:**\n",
    "La commande `prices_pd[\"MedQ\"].values` renvoie un array contenant toutes les valeurs de `MedQ` tandis que `np.unique(prices_pd[\"MedQ\"].values)` enlève d'abord les doublons."
   ]
  },
  {
   "cell_type": "markdown",
   "metadata": {},
   "source": [
    "## Implémentation de mesures classiques ##\n"
   ]
  },
  {
   "cell_type": "markdown",
   "metadata": {},
   "source": [
    "Nous allons maintenant écrire les fonctions permettant de calculer des mesures ''basiques'' sur des données unidimensionnelles. Pour cela, nous allons travailler avec la structure <tt>array</tt> de numpy. Pour convertir une colonne de DataFrame en '<tt>array</tt>, voici commment faire:"
   ]
  },
  {
   "cell_type": "markdown",
   "metadata": {},
   "source": [
    "**Réponse:**\n",
    "```python\n",
    "DataFrame.to_numpy()\n",
    "```"
   ]
  },
  {
   "cell_type": "markdown",
   "metadata": {},
   "source": [
    "### Moyenne"
   ]
  },
  {
   "cell_type": "markdown",
   "metadata": {},
   "source": [
    "<font color=\"RED\" size=\"+1\">**[Q]**</font> **La moyenne**\n",
    "\n",
    "\n",
    "Ecrire la fonction moyenne(valeurs) qui calcule la moyenne des éléments d'un tableau (en utilisant la boucle ''for'', sans utiliser les fonctions déjà implémentées dans numpy)"
   ]
  },
  {
   "cell_type": "code",
   "execution_count": 19,
   "metadata": {},
   "outputs": [],
   "source": [
    "def moyenne(valeurs):\n",
    "    return sum([e for e in valeurs])/len(valeurs)"
   ]
  },
  {
   "cell_type": "markdown",
   "metadata": {},
   "source": [
    "Tester la fonction moyenne et comparer vos résultats avec l'implémentation de base de python donnée ci-dessous:"
   ]
  },
  {
   "cell_type": "code",
   "execution_count": 20,
   "metadata": {},
   "outputs": [
    {
     "name": "stdout",
     "output_type": "stream",
     "text": [
      "La moyenne (MedQ) est avec ma fonction : 247.618306 dollars\n",
      "La moyenne (MedQ) est avec mean        : 247.618306 dollars\n"
     ]
    }
   ],
   "source": [
    "print(\"La moyenne (MedQ) est avec ma fonction : %f dollars\" % moyenne(prices_pd['MedQ']))\n",
    "print(\"La moyenne (MedQ) est avec mean        : %f dollars\" % prices_pd['MedQ'].mean())"
   ]
  },
  {
   "cell_type": "markdown",
   "metadata": {},
   "source": [
    "<font color=\"RED\" size=\"+1\">**[Q]**</font> **Moyennes sur les qualités**\n",
    "\n",
    "Calculer:\n",
    "* La moyenne des prix pour les qualités medium et high\n",
    "* La moyenne des prix pour les qualités medium et high dans l'état de ''New York''\n",
    "\n",
    "Les calculs seront fait d'une part à l'aide de votre fonction, et d'autre part à l'aide des fonctions de python. "
   ]
  },
  {
   "cell_type": "code",
   "execution_count": 21,
   "metadata": {},
   "outputs": [
    {
     "name": "stdout",
     "output_type": "stream",
     "text": [
      "Moyenne MedQ :  247.61830603956537\n",
      "Moyenne HighQ :  329.75985414210226\n",
      "Moyenne MedQ à NY :  265.37694877505584\n",
      "Moyenne HighQ à NY :  346.91276169265035\n"
     ]
    }
   ],
   "source": [
    "print(\"Moyenne MedQ : \", moyenne(prices_pd['MedQ']))\n",
    "print(\"Moyenne HighQ : \", moyenne(prices_pd['HighQ']))\n",
    "print(\"Moyenne MedQ à NY : \", moyenne(prices_pd.loc[prices_pd['State']=='New York', 'MedQ']))\n",
    "print(\"Moyenne HighQ à NY : \", moyenne(prices_pd.loc[prices_pd['State']=='New York', 'HighQ']))"
   ]
  },
  {
   "cell_type": "markdown",
   "metadata": {},
   "source": [
    "<font color=\"RED\" size=\"+1\">**[Q]**</font> **Moyenne sur les états**\n",
    "\n",
    "Calculez la moyenne des prix qualités medium et high dans tous les états -- la liste des états est obtenues ainsi states=np.unique(prices_pd[\"State\"].values)\n",
    "\n",
    "Pour cela, vous pouvez (devez) le faire de deux manières:\n",
    "* Faire une boucle sur chacun des états\n",
    "* Utiliser la fonction groupby comme expliqué ici : http://pandas.pydata.org/pandas-docs/stable/groupby.html\n",
    " et ici : https://www.kaggle.com/crawford/python-groupby-tutorial\n"
   ]
  },
  {
   "cell_type": "code",
   "execution_count": 22,
   "metadata": {},
   "outputs": [
    {
     "name": "stdout",
     "output_type": "stream",
     "text": [
      "Prix moyen par état pour la qualité Medium (avec ma fonction): \n",
      "\n",
      "\t Alabama  :  204.60616926503337\n",
      "\t Alaska  :  262.0463919821821\n",
      "\t Arizona  :  209.3653452115812\n",
      "\t Arkansas  :  190.4146547884188\n",
      "\t California  :  191.26890868596863\n",
      "\t Colorado  :  196.5325167037864\n",
      "\t Connecticut  :  271.323897550111\n",
      "\t Delaware  :  231.23031180400875\n",
      "\t District of Columbia  :  288.2513140311806\n",
      "\t Florida  :  217.88256124721573\n",
      "\t Georgia  :  215.94363028953245\n",
      "\t Hawaii  :  268.73815144766115\n",
      "\t Idaho  :  249.82242761692677\n",
      "\t Illinois  :  284.18008908685954\n",
      "\t Indiana  :  211.9895100222718\n",
      "\t Iowa  :  289.9455233853002\n",
      "\t Kansas  :  261.24307349665946\n",
      "\t Kentucky  :  179.93376391982198\n",
      "\t Louisiana  :  243.11788418708247\n",
      "\t Maine  :  248.43817371937624\n",
      "\t Maryland  :  254.14044543429824\n",
      "\t Massachusetts  :  290.1978841870826\n",
      "\t Michigan  :  273.3523385300668\n",
      "\t Minnesota  :  275.85006681514506\n",
      "\t Mississippi  :  148.23160356347432\n",
      "\t Missouri  :  244.81220489977727\n",
      "\t Montana  :  248.39855233853018\n",
      "\t Nebraska  :  248.16064587973275\n",
      "\t Nevada  :  226.21741648106928\n",
      "\t New Hampshire  :  290.10775055679323\n",
      "\t New Jersey  :  288.72701559020027\n",
      "\t New Mexico  :  209.24224944320733\n",
      "\t New York  :  265.37694877505584\n",
      "\t North Carolina  :  245.69922048997807\n",
      "\t North Dakota  :  349.0666815144772\n",
      "\t Ohio  :  216.95316258351872\n",
      "\t Oklahoma  :  233.82200445434296\n",
      "\t Oregon  :  183.88986636971052\n",
      "\t Pennsylvania  :  267.8913363028955\n",
      "\t Rhode Island  :  258.1722939866367\n",
      "\t South Carolina  :  203.33977728285097\n",
      "\t South Dakota  :  351.9448106904231\n",
      "\t Tennessee  :  225.80886414253902\n",
      "\t Texas  :  233.53683741648115\n",
      "\t Utah  :  237.37189309576863\n",
      "\t Vermont  :  315.5475501113591\n",
      "\t Virginia  :  290.4080846325166\n",
      "\t Washington  :  189.92498886414256\n",
      "\t West Virginia  :  215.88380846325174\n",
      "\t Wisconsin  :  271.6481737193764\n",
      "\t Wyoming  :  358.53483296213864\n",
      "\n",
      "Prix moyen par état pour la qualité High (avec groupby): \n",
      "\n"
     ]
    },
    {
     "data": {
      "text/plain": [
       "State\n",
       "Alabama                 339.561849\n",
       "Alaska                  291.482004\n",
       "Arizona                 300.667483\n",
       "Arkansas                348.056147\n",
       "California              245.376125\n",
       "Colorado                238.918708\n",
       "Connecticut             341.694076\n",
       "Delaware                366.781849\n",
       "District of Columbia    348.177416\n",
       "Florida                 302.570312\n",
       "Georgia                 326.659644\n",
       "Hawaii                  309.918931\n",
       "Idaho                   275.639376\n",
       "Illinois                355.463341\n",
       "Indiana                 333.191114\n",
       "Iowa                    367.095791\n",
       "Kansas                  350.819198\n",
       "Kentucky                338.855167\n",
       "Louisiana               366.832539\n",
       "Maine                   315.390089\n",
       "Maryland                370.985167\n",
       "Massachusetts           349.011648\n",
       "Michigan                292.090512\n",
       "Minnesota               358.243274\n",
       "Mississippi             337.559287\n",
       "Missouri                359.276637\n",
       "Montana                 267.831737\n",
       "Nebraska                341.559354\n",
       "Nevada                  267.820111\n",
       "New Hampshire           359.476036\n",
       "New Jersey              349.321693\n",
       "New Mexico              289.562539\n",
       "New York                346.912762\n",
       "North Carolina          349.475033\n",
       "North Dakota            398.668753\n",
       "Ohio                    334.554655\n",
       "Oklahoma                361.573140\n",
       "Oregon                  208.496236\n",
       "Pennsylvania            366.125679\n",
       "Rhode Island            323.838352\n",
       "South Carolina          341.692918\n",
       "South Dakota            375.818486\n",
       "Tennessee               352.753007\n",
       "Texas                   337.105212\n",
       "Utah                    289.596058\n",
       "Vermont                 374.250445\n",
       "Virginia                368.146993\n",
       "Washington              233.387817\n",
       "West Virginia           357.394566\n",
       "Wisconsin               353.052517\n",
       "Wyoming                 339.020780\n",
       "Name: HighQ, dtype: float64"
      ]
     },
     "execution_count": 22,
     "metadata": {},
     "output_type": "execute_result"
    }
   ],
   "source": [
    "# 1ère méthode: avec une boucle sur les états\n",
    "\n",
    "print(\"Prix moyen par état pour la qualité Medium (avec ma fonction): \\n\")\n",
    "\n",
    "for etat in les_etats:\n",
    "    print(\"\\t\", etat, \" : \", moyenne(prices_pd.loc[prices_pd['State']==etat, 'MedQ']))\n",
    "\n",
    "\n",
    "# 2ème méthode: avec la fonction groupby\n",
    "\n",
    "print(\"\\nPrix moyen par état pour la qualité High (avec groupby): \\n\")\n",
    "\n",
    "groupes_etats = prices_pd.groupby('State')\n",
    "groupes_etats['HighQ'].mean()"
   ]
  },
  {
   "cell_type": "markdown",
   "metadata": {},
   "source": [
    "<font color=\"RED\" size=\"+1\">**[Q]**</font> **D'autres moyennes**\n",
    "\n",
    "Calculer la moyenne (avec les deux fonctions) sur le prix de la basse qualité. Que constatez vous ? Expliquez..."
   ]
  },
  {
   "cell_type": "code",
   "execution_count": 23,
   "metadata": {},
   "outputs": [
    {
     "name": "stdout",
     "output_type": "stream",
     "text": [
      "Prix moyen par état pour la qualité Low (avec ma fonction): \n",
      "\n",
      "\t Alabama  :  nan\n",
      "\t Alaska  :  nan\n",
      "\t Arizona  :  nan\n",
      "\t Arkansas  :  nan\n",
      "\t California  :  nan\n",
      "\t Colorado  :  nan\n",
      "\t Connecticut  :  nan\n",
      "\t Delaware  :  nan\n",
      "\t District of Columbia  :  nan\n",
      "\t Florida  :  nan\n",
      "\t Georgia  :  nan\n",
      "\t Hawaii  :  nan\n",
      "\t Idaho  :  nan\n",
      "\t Illinois  :  nan\n",
      "\t Indiana  :  nan\n",
      "\t Iowa  :  nan\n",
      "\t Kansas  :  nan\n",
      "\t Kentucky  :  nan\n",
      "\t Louisiana  :  nan\n",
      "\t Maine  :  nan\n",
      "\t Maryland  :  nan\n",
      "\t Massachusetts  :  nan\n",
      "\t Michigan  :  nan\n",
      "\t Minnesota  :  nan\n",
      "\t Mississippi  :  nan\n",
      "\t Missouri  :  nan\n",
      "\t Montana  :  nan\n",
      "\t Nebraska  :  nan\n",
      "\t Nevada  :  nan\n",
      "\t New Hampshire  :  nan\n",
      "\t New Jersey  :  nan\n",
      "\t New Mexico  :  nan\n",
      "\t New York  :  nan\n",
      "\t North Carolina  :  nan\n",
      "\t North Dakota  :  nan\n",
      "\t Ohio  :  nan\n",
      "\t Oklahoma  :  nan\n",
      "\t Oregon  :  nan\n",
      "\t Pennsylvania  :  nan\n",
      "\t Rhode Island  :  nan\n",
      "\t South Carolina  :  nan\n",
      "\t South Dakota  :  nan\n",
      "\t Tennessee  :  nan\n",
      "\t Texas  :  nan\n",
      "\t Utah  :  nan\n",
      "\t Vermont  :  nan\n",
      "\t Virginia  :  nan\n",
      "\t Washington  :  nan\n",
      "\t West Virginia  :  nan\n",
      "\t Wisconsin  :  nan\n",
      "\t Wyoming  :  nan\n",
      "\n",
      "Prix moyen par état pour la qualité Low (avec groupby): \n",
      "\n"
     ]
    },
    {
     "data": {
      "text/plain": [
       "State\n",
       "Alabama                 146.832603\n",
       "Alaska                  387.232727\n",
       "Arizona                 190.826860\n",
       "Arkansas                127.345455\n",
       "California              190.795992\n",
       "Colorado                226.790620\n",
       "Connecticut             253.024876\n",
       "Delaware                205.045992\n",
       "District of Columbia    210.563554\n",
       "Florida                 153.205372\n",
       "Georgia                 150.264091\n",
       "Hawaii                  167.093843\n",
       "Idaho                   139.962851\n",
       "Illinois                186.545165\n",
       "Indiana                 158.931653\n",
       "Iowa                    248.595537\n",
       "Kansas                  120.199256\n",
       "Kentucky                124.156860\n",
       "Louisiana               146.776983\n",
       "Maine                   244.951653\n",
       "Maryland                190.185083\n",
       "Massachusetts           220.070000\n",
       "Michigan                252.644917\n",
       "Minnesota               182.683306\n",
       "Mississippi             142.751942\n",
       "Missouri                147.508595\n",
       "Montana                 659.851074\n",
       "Nebraska                137.895909\n",
       "Nevada                  241.792934\n",
       "New Hampshire           639.807810\n",
       "New Jersey              228.611777\n",
       "New Mexico               80.890950\n",
       "New York                201.340000\n",
       "North Carolina          150.810620\n",
       "North Dakota            333.968223\n",
       "Ohio                    165.169628\n",
       "Oklahoma                119.893926\n",
       "Oregon                  170.173388\n",
       "Pennsylvania            193.229752\n",
       "Rhode Island            203.000661\n",
       "South Carolina          184.467603\n",
       "South Dakota            124.318017\n",
       "Tennessee               190.121570\n",
       "Texas                   143.362893\n",
       "Utah                    193.844298\n",
       "Vermont                 189.600744\n",
       "Virginia                224.239008\n",
       "Washington              143.183388\n",
       "West Virginia           155.715165\n",
       "Wisconsin               239.565083\n",
       "Wyoming                 161.300000\n",
       "Name: LowQ, dtype: float64"
      ]
     },
     "execution_count": 23,
     "metadata": {},
     "output_type": "execute_result"
    }
   ],
   "source": [
    "# 1ère méthode: avec une boucle sur les états\n",
    "\n",
    "print(\"Prix moyen par état pour la qualité Low (avec ma fonction): \\n\")\n",
    "\n",
    "for etat in les_etats:\n",
    "    print(\"\\t\", etat, \" : \", moyenne(prices_pd.loc[prices_pd['State']==etat, 'LowQ']))\n",
    "\n",
    "# 2ème méthode: avec la fonction groupby\n",
    "\n",
    "print(\"\\nPrix moyen par état pour la qualité Low (avec groupby): \\n\")\n",
    "\n",
    "groupe_etats = prices_pd.groupby('State')\n",
    "groupe_etats['LowQ'].mean()"
   ]
  },
  {
   "cell_type": "markdown",
   "metadata": {},
   "source": [
    "**Réponse:**\n",
    "\n",
    "Je remarque que ma version de `moyenne` renvoie `nan` pour chaque état alors que ce n'est pas le cas de groupby.\n",
    "On peut donc penser que manipuler manuellement des valeurs `nan` produira un resultat `nan`, étant donné que dans la colonne `LowQ` chaque état a au moins une valeur `nan`.\n",
    "`groupby`, lui, semble exclure ces mauvaises valeurs ce qui produira donc un résultat défini."
   ]
  },
  {
   "cell_type": "markdown",
   "metadata": {},
   "source": [
    "<font color=\"RED\" size=\"+1\">**[Q]**</font> **Modification de données**\n",
    "\n",
    "Remplacez le <tt>NAN</tt> de la colonne <tt>LowQ</tt> à l'aide de la fonction décrite ici: http://pandas.pydata.org/pandas-docs/version/0.17.1/generated/pandas.DataFrame.fillna.html. \n",
    "\n",
    "Nous souhaitons plus particulièrement utiliser la méthode <tt>fill</tt> après avoir trié par état et par date grâce à l'utilisation de la fonction <tt>sort</tt> : \n",
    "\n",
    "            prices_sorted = prices_pd.sort_values(by=['State', 'date'], inplace=False)\n",
    "\n",
    "Expliquer le résultat de cette commande.\n",
    "Que se passerait-il si on utilisait <tt>inplace=True</tt> ?"
   ]
  },
  {
   "cell_type": "code",
   "execution_count": 24,
   "metadata": {},
   "outputs": [
    {
     "data": {
      "text/html": [
       "<div>\n",
       "<style scoped>\n",
       "    .dataframe tbody tr th:only-of-type {\n",
       "        vertical-align: middle;\n",
       "    }\n",
       "\n",
       "    .dataframe tbody tr th {\n",
       "        vertical-align: top;\n",
       "    }\n",
       "\n",
       "    .dataframe thead th {\n",
       "        text-align: right;\n",
       "    }\n",
       "</style>\n",
       "<table border=\"1\" class=\"dataframe\">\n",
       "  <thead>\n",
       "    <tr style=\"text-align: right;\">\n",
       "      <th></th>\n",
       "      <th>State</th>\n",
       "      <th>HighQ</th>\n",
       "      <th>HighQN</th>\n",
       "      <th>MedQ</th>\n",
       "      <th>MedQN</th>\n",
       "      <th>LowQ</th>\n",
       "      <th>LowQN</th>\n",
       "      <th>date</th>\n",
       "    </tr>\n",
       "  </thead>\n",
       "  <tbody>\n",
       "    <tr>\n",
       "      <th>20094</th>\n",
       "      <td>Alabama</td>\n",
       "      <td>339.65</td>\n",
       "      <td>1033</td>\n",
       "      <td>198.04</td>\n",
       "      <td>926</td>\n",
       "      <td>147.15</td>\n",
       "      <td>122</td>\n",
       "      <td>2013-12-27</td>\n",
       "    </tr>\n",
       "    <tr>\n",
       "      <th>20859</th>\n",
       "      <td>Alabama</td>\n",
       "      <td>339.65</td>\n",
       "      <td>1033</td>\n",
       "      <td>198.04</td>\n",
       "      <td>926</td>\n",
       "      <td>147.15</td>\n",
       "      <td>122</td>\n",
       "      <td>2013-12-28</td>\n",
       "    </tr>\n",
       "    <tr>\n",
       "      <th>21573</th>\n",
       "      <td>Alabama</td>\n",
       "      <td>339.75</td>\n",
       "      <td>1036</td>\n",
       "      <td>198.26</td>\n",
       "      <td>929</td>\n",
       "      <td>149.49</td>\n",
       "      <td>123</td>\n",
       "      <td>2013-12-29</td>\n",
       "    </tr>\n",
       "    <tr>\n",
       "      <th>22287</th>\n",
       "      <td>Alabama</td>\n",
       "      <td>339.75</td>\n",
       "      <td>1036</td>\n",
       "      <td>198.81</td>\n",
       "      <td>930</td>\n",
       "      <td>149.49</td>\n",
       "      <td>123</td>\n",
       "      <td>2013-12-30</td>\n",
       "    </tr>\n",
       "    <tr>\n",
       "      <th>22797</th>\n",
       "      <td>Alabama</td>\n",
       "      <td>339.42</td>\n",
       "      <td>1040</td>\n",
       "      <td>198.68</td>\n",
       "      <td>932</td>\n",
       "      <td>149.49</td>\n",
       "      <td>123</td>\n",
       "      <td>2013-12-31</td>\n",
       "    </tr>\n",
       "    <tr>\n",
       "      <th>0</th>\n",
       "      <td>Alabama</td>\n",
       "      <td>339.06</td>\n",
       "      <td>1042</td>\n",
       "      <td>198.64</td>\n",
       "      <td>933</td>\n",
       "      <td>149.49</td>\n",
       "      <td>123</td>\n",
       "      <td>2014-01-01</td>\n",
       "    </tr>\n",
       "    <tr>\n",
       "      <th>765</th>\n",
       "      <td>Alabama</td>\n",
       "      <td>339.20</td>\n",
       "      <td>1043</td>\n",
       "      <td>198.64</td>\n",
       "      <td>933</td>\n",
       "      <td>149.49</td>\n",
       "      <td>123</td>\n",
       "      <td>2014-01-02</td>\n",
       "    </tr>\n",
       "    <tr>\n",
       "      <th>1479</th>\n",
       "      <td>Alabama</td>\n",
       "      <td>339.20</td>\n",
       "      <td>1043</td>\n",
       "      <td>198.64</td>\n",
       "      <td>933</td>\n",
       "      <td>148.48</td>\n",
       "      <td>124</td>\n",
       "      <td>2014-01-03</td>\n",
       "    </tr>\n",
       "    <tr>\n",
       "      <th>2244</th>\n",
       "      <td>Alabama</td>\n",
       "      <td>339.20</td>\n",
       "      <td>1043</td>\n",
       "      <td>198.43</td>\n",
       "      <td>934</td>\n",
       "      <td>148.48</td>\n",
       "      <td>124</td>\n",
       "      <td>2014-01-04</td>\n",
       "    </tr>\n",
       "    <tr>\n",
       "      <th>3009</th>\n",
       "      <td>Alabama</td>\n",
       "      <td>339.32</td>\n",
       "      <td>1046</td>\n",
       "      <td>198.13</td>\n",
       "      <td>936</td>\n",
       "      <td>148.48</td>\n",
       "      <td>124</td>\n",
       "      <td>2014-01-05</td>\n",
       "    </tr>\n",
       "    <tr>\n",
       "      <th>3774</th>\n",
       "      <td>Alabama</td>\n",
       "      <td>339.18</td>\n",
       "      <td>1050</td>\n",
       "      <td>198.20</td>\n",
       "      <td>941</td>\n",
       "      <td>148.48</td>\n",
       "      <td>124</td>\n",
       "      <td>2014-01-06</td>\n",
       "    </tr>\n",
       "    <tr>\n",
       "      <th>4539</th>\n",
       "      <td>Alabama</td>\n",
       "      <td>339.59</td>\n",
       "      <td>1053</td>\n",
       "      <td>199.15</td>\n",
       "      <td>943</td>\n",
       "      <td>148.48</td>\n",
       "      <td>124</td>\n",
       "      <td>2014-01-07</td>\n",
       "    </tr>\n",
       "    <tr>\n",
       "      <th>5304</th>\n",
       "      <td>Alabama</td>\n",
       "      <td>340.27</td>\n",
       "      <td>1057</td>\n",
       "      <td>199.43</td>\n",
       "      <td>946</td>\n",
       "      <td>148.48</td>\n",
       "      <td>124</td>\n",
       "      <td>2014-01-08</td>\n",
       "    </tr>\n",
       "    <tr>\n",
       "      <th>6069</th>\n",
       "      <td>Alabama</td>\n",
       "      <td>340.23</td>\n",
       "      <td>1058</td>\n",
       "      <td>199.66</td>\n",
       "      <td>950</td>\n",
       "      <td>148.48</td>\n",
       "      <td>124</td>\n",
       "      <td>2014-01-09</td>\n",
       "    </tr>\n",
       "    <tr>\n",
       "      <th>6834</th>\n",
       "      <td>Alabama</td>\n",
       "      <td>340.07</td>\n",
       "      <td>1059</td>\n",
       "      <td>199.53</td>\n",
       "      <td>952</td>\n",
       "      <td>148.48</td>\n",
       "      <td>124</td>\n",
       "      <td>2014-01-10</td>\n",
       "    </tr>\n",
       "    <tr>\n",
       "      <th>7650</th>\n",
       "      <td>Alabama</td>\n",
       "      <td>340.20</td>\n",
       "      <td>1060</td>\n",
       "      <td>199.53</td>\n",
       "      <td>952</td>\n",
       "      <td>148.48</td>\n",
       "      <td>124</td>\n",
       "      <td>2014-01-11</td>\n",
       "    </tr>\n",
       "    <tr>\n",
       "      <th>8466</th>\n",
       "      <td>Alabama</td>\n",
       "      <td>340.20</td>\n",
       "      <td>1060</td>\n",
       "      <td>199.57</td>\n",
       "      <td>955</td>\n",
       "      <td>149.60</td>\n",
       "      <td>125</td>\n",
       "      <td>2014-01-12</td>\n",
       "    </tr>\n",
       "    <tr>\n",
       "      <th>9231</th>\n",
       "      <td>Alabama</td>\n",
       "      <td>340.18</td>\n",
       "      <td>1061</td>\n",
       "      <td>199.47</td>\n",
       "      <td>959</td>\n",
       "      <td>149.60</td>\n",
       "      <td>125</td>\n",
       "      <td>2014-01-13</td>\n",
       "    </tr>\n",
       "    <tr>\n",
       "      <th>9996</th>\n",
       "      <td>Alabama</td>\n",
       "      <td>339.92</td>\n",
       "      <td>1067</td>\n",
       "      <td>198.84</td>\n",
       "      <td>961</td>\n",
       "      <td>149.60</td>\n",
       "      <td>125</td>\n",
       "      <td>2014-01-14</td>\n",
       "    </tr>\n",
       "    <tr>\n",
       "      <th>10761</th>\n",
       "      <td>Alabama</td>\n",
       "      <td>340.09</td>\n",
       "      <td>1068</td>\n",
       "      <td>198.74</td>\n",
       "      <td>962</td>\n",
       "      <td>150.34</td>\n",
       "      <td>126</td>\n",
       "      <td>2014-01-15</td>\n",
       "    </tr>\n",
       "    <tr>\n",
       "      <th>11526</th>\n",
       "      <td>Alabama</td>\n",
       "      <td>340.10</td>\n",
       "      <td>1069</td>\n",
       "      <td>198.74</td>\n",
       "      <td>962</td>\n",
       "      <td>153.19</td>\n",
       "      <td>127</td>\n",
       "      <td>2014-01-16</td>\n",
       "    </tr>\n",
       "    <tr>\n",
       "      <th>12291</th>\n",
       "      <td>Alabama</td>\n",
       "      <td>340.10</td>\n",
       "      <td>1069</td>\n",
       "      <td>199.35</td>\n",
       "      <td>965</td>\n",
       "      <td>152.11</td>\n",
       "      <td>128</td>\n",
       "      <td>2014-01-17</td>\n",
       "    </tr>\n",
       "    <tr>\n",
       "      <th>13005</th>\n",
       "      <td>Alabama</td>\n",
       "      <td>340.10</td>\n",
       "      <td>1069</td>\n",
       "      <td>199.31</td>\n",
       "      <td>966</td>\n",
       "      <td>152.11</td>\n",
       "      <td>128</td>\n",
       "      <td>2014-01-18</td>\n",
       "    </tr>\n",
       "    <tr>\n",
       "      <th>13719</th>\n",
       "      <td>Alabama</td>\n",
       "      <td>339.96</td>\n",
       "      <td>1070</td>\n",
       "      <td>199.31</td>\n",
       "      <td>966</td>\n",
       "      <td>152.11</td>\n",
       "      <td>128</td>\n",
       "      <td>2014-01-19</td>\n",
       "    </tr>\n",
       "    <tr>\n",
       "      <th>14433</th>\n",
       "      <td>Alabama</td>\n",
       "      <td>340.06</td>\n",
       "      <td>1071</td>\n",
       "      <td>199.31</td>\n",
       "      <td>967</td>\n",
       "      <td>152.02</td>\n",
       "      <td>129</td>\n",
       "      <td>2014-01-20</td>\n",
       "    </tr>\n",
       "    <tr>\n",
       "      <th>15147</th>\n",
       "      <td>Alabama</td>\n",
       "      <td>339.44</td>\n",
       "      <td>1073</td>\n",
       "      <td>199.40</td>\n",
       "      <td>969</td>\n",
       "      <td>152.02</td>\n",
       "      <td>129</td>\n",
       "      <td>2014-01-21</td>\n",
       "    </tr>\n",
       "    <tr>\n",
       "      <th>15861</th>\n",
       "      <td>Alabama</td>\n",
       "      <td>339.49</td>\n",
       "      <td>1074</td>\n",
       "      <td>199.38</td>\n",
       "      <td>971</td>\n",
       "      <td>152.02</td>\n",
       "      <td>129</td>\n",
       "      <td>2014-01-22</td>\n",
       "    </tr>\n",
       "    <tr>\n",
       "      <th>16575</th>\n",
       "      <td>Alabama</td>\n",
       "      <td>339.13</td>\n",
       "      <td>1076</td>\n",
       "      <td>199.38</td>\n",
       "      <td>971</td>\n",
       "      <td>152.02</td>\n",
       "      <td>129</td>\n",
       "      <td>2014-01-23</td>\n",
       "    </tr>\n",
       "    <tr>\n",
       "      <th>17289</th>\n",
       "      <td>Alabama</td>\n",
       "      <td>339.14</td>\n",
       "      <td>1077</td>\n",
       "      <td>199.38</td>\n",
       "      <td>971</td>\n",
       "      <td>152.02</td>\n",
       "      <td>129</td>\n",
       "      <td>2014-01-24</td>\n",
       "    </tr>\n",
       "    <tr>\n",
       "      <th>18003</th>\n",
       "      <td>Alabama</td>\n",
       "      <td>339.14</td>\n",
       "      <td>1077</td>\n",
       "      <td>199.39</td>\n",
       "      <td>972</td>\n",
       "      <td>152.02</td>\n",
       "      <td>129</td>\n",
       "      <td>2014-01-25</td>\n",
       "    </tr>\n",
       "    <tr>\n",
       "      <th>...</th>\n",
       "      <td>...</td>\n",
       "      <td>...</td>\n",
       "      <td>...</td>\n",
       "      <td>...</td>\n",
       "      <td>...</td>\n",
       "      <td>...</td>\n",
       "      <td>...</td>\n",
       "      <td>...</td>\n",
       "    </tr>\n",
       "    <tr>\n",
       "      <th>9638</th>\n",
       "      <td>Wyoming</td>\n",
       "      <td>314.89</td>\n",
       "      <td>146</td>\n",
       "      <td>345.46</td>\n",
       "      <td>222</td>\n",
       "      <td>0.00</td>\n",
       "      <td>13</td>\n",
       "      <td>2015-05-13</td>\n",
       "    </tr>\n",
       "    <tr>\n",
       "      <th>10403</th>\n",
       "      <td>Wyoming</td>\n",
       "      <td>314.89</td>\n",
       "      <td>146</td>\n",
       "      <td>345.46</td>\n",
       "      <td>222</td>\n",
       "      <td>0.00</td>\n",
       "      <td>13</td>\n",
       "      <td>2015-05-14</td>\n",
       "    </tr>\n",
       "    <tr>\n",
       "      <th>11168</th>\n",
       "      <td>Wyoming</td>\n",
       "      <td>314.89</td>\n",
       "      <td>146</td>\n",
       "      <td>345.46</td>\n",
       "      <td>222</td>\n",
       "      <td>0.00</td>\n",
       "      <td>13</td>\n",
       "      <td>2015-05-15</td>\n",
       "    </tr>\n",
       "    <tr>\n",
       "      <th>11933</th>\n",
       "      <td>Wyoming</td>\n",
       "      <td>314.89</td>\n",
       "      <td>146</td>\n",
       "      <td>345.46</td>\n",
       "      <td>222</td>\n",
       "      <td>0.00</td>\n",
       "      <td>13</td>\n",
       "      <td>2015-05-16</td>\n",
       "    </tr>\n",
       "    <tr>\n",
       "      <th>12647</th>\n",
       "      <td>Wyoming</td>\n",
       "      <td>314.89</td>\n",
       "      <td>146</td>\n",
       "      <td>345.46</td>\n",
       "      <td>222</td>\n",
       "      <td>0.00</td>\n",
       "      <td>13</td>\n",
       "      <td>2015-05-17</td>\n",
       "    </tr>\n",
       "    <tr>\n",
       "      <th>13361</th>\n",
       "      <td>Wyoming</td>\n",
       "      <td>314.89</td>\n",
       "      <td>146</td>\n",
       "      <td>345.46</td>\n",
       "      <td>222</td>\n",
       "      <td>0.00</td>\n",
       "      <td>13</td>\n",
       "      <td>2015-05-18</td>\n",
       "    </tr>\n",
       "    <tr>\n",
       "      <th>14075</th>\n",
       "      <td>Wyoming</td>\n",
       "      <td>314.89</td>\n",
       "      <td>146</td>\n",
       "      <td>345.46</td>\n",
       "      <td>222</td>\n",
       "      <td>0.00</td>\n",
       "      <td>13</td>\n",
       "      <td>2015-05-19</td>\n",
       "    </tr>\n",
       "    <tr>\n",
       "      <th>14789</th>\n",
       "      <td>Wyoming</td>\n",
       "      <td>314.89</td>\n",
       "      <td>146</td>\n",
       "      <td>345.46</td>\n",
       "      <td>222</td>\n",
       "      <td>0.00</td>\n",
       "      <td>13</td>\n",
       "      <td>2015-05-20</td>\n",
       "    </tr>\n",
       "    <tr>\n",
       "      <th>15503</th>\n",
       "      <td>Wyoming</td>\n",
       "      <td>314.89</td>\n",
       "      <td>146</td>\n",
       "      <td>346.59</td>\n",
       "      <td>223</td>\n",
       "      <td>0.00</td>\n",
       "      <td>13</td>\n",
       "      <td>2015-05-21</td>\n",
       "    </tr>\n",
       "    <tr>\n",
       "      <th>16217</th>\n",
       "      <td>Wyoming</td>\n",
       "      <td>314.89</td>\n",
       "      <td>146</td>\n",
       "      <td>346.59</td>\n",
       "      <td>223</td>\n",
       "      <td>0.00</td>\n",
       "      <td>13</td>\n",
       "      <td>2015-05-22</td>\n",
       "    </tr>\n",
       "    <tr>\n",
       "      <th>16931</th>\n",
       "      <td>Wyoming</td>\n",
       "      <td>314.89</td>\n",
       "      <td>146</td>\n",
       "      <td>346.59</td>\n",
       "      <td>223</td>\n",
       "      <td>0.00</td>\n",
       "      <td>13</td>\n",
       "      <td>2015-05-23</td>\n",
       "    </tr>\n",
       "    <tr>\n",
       "      <th>17645</th>\n",
       "      <td>Wyoming</td>\n",
       "      <td>314.89</td>\n",
       "      <td>146</td>\n",
       "      <td>345.75</td>\n",
       "      <td>224</td>\n",
       "      <td>0.00</td>\n",
       "      <td>13</td>\n",
       "      <td>2015-05-24</td>\n",
       "    </tr>\n",
       "    <tr>\n",
       "      <th>18359</th>\n",
       "      <td>Wyoming</td>\n",
       "      <td>314.89</td>\n",
       "      <td>146</td>\n",
       "      <td>316.65</td>\n",
       "      <td>225</td>\n",
       "      <td>0.00</td>\n",
       "      <td>13</td>\n",
       "      <td>2015-05-25</td>\n",
       "    </tr>\n",
       "    <tr>\n",
       "      <th>19073</th>\n",
       "      <td>Wyoming</td>\n",
       "      <td>314.89</td>\n",
       "      <td>146</td>\n",
       "      <td>317.38</td>\n",
       "      <td>226</td>\n",
       "      <td>0.00</td>\n",
       "      <td>13</td>\n",
       "      <td>2015-05-26</td>\n",
       "    </tr>\n",
       "    <tr>\n",
       "      <th>19787</th>\n",
       "      <td>Wyoming</td>\n",
       "      <td>312.84</td>\n",
       "      <td>147</td>\n",
       "      <td>317.38</td>\n",
       "      <td>226</td>\n",
       "      <td>0.00</td>\n",
       "      <td>13</td>\n",
       "      <td>2015-05-27</td>\n",
       "    </tr>\n",
       "    <tr>\n",
       "      <th>20552</th>\n",
       "      <td>Wyoming</td>\n",
       "      <td>312.84</td>\n",
       "      <td>147</td>\n",
       "      <td>317.38</td>\n",
       "      <td>226</td>\n",
       "      <td>0.00</td>\n",
       "      <td>13</td>\n",
       "      <td>2015-05-28</td>\n",
       "    </tr>\n",
       "    <tr>\n",
       "      <th>21266</th>\n",
       "      <td>Wyoming</td>\n",
       "      <td>312.84</td>\n",
       "      <td>147</td>\n",
       "      <td>317.38</td>\n",
       "      <td>226</td>\n",
       "      <td>0.00</td>\n",
       "      <td>13</td>\n",
       "      <td>2015-05-29</td>\n",
       "    </tr>\n",
       "    <tr>\n",
       "      <th>21980</th>\n",
       "      <td>Wyoming</td>\n",
       "      <td>312.84</td>\n",
       "      <td>147</td>\n",
       "      <td>317.38</td>\n",
       "      <td>226</td>\n",
       "      <td>0.00</td>\n",
       "      <td>13</td>\n",
       "      <td>2015-05-30</td>\n",
       "    </tr>\n",
       "    <tr>\n",
       "      <th>22643</th>\n",
       "      <td>Wyoming</td>\n",
       "      <td>312.84</td>\n",
       "      <td>147</td>\n",
       "      <td>317.38</td>\n",
       "      <td>226</td>\n",
       "      <td>0.00</td>\n",
       "      <td>13</td>\n",
       "      <td>2015-05-31</td>\n",
       "    </tr>\n",
       "    <tr>\n",
       "      <th>458</th>\n",
       "      <td>Wyoming</td>\n",
       "      <td>312.84</td>\n",
       "      <td>147</td>\n",
       "      <td>317.38</td>\n",
       "      <td>226</td>\n",
       "      <td>0.00</td>\n",
       "      <td>13</td>\n",
       "      <td>2015-06-01</td>\n",
       "    </tr>\n",
       "    <tr>\n",
       "      <th>1223</th>\n",
       "      <td>Wyoming</td>\n",
       "      <td>312.84</td>\n",
       "      <td>147</td>\n",
       "      <td>317.38</td>\n",
       "      <td>226</td>\n",
       "      <td>0.00</td>\n",
       "      <td>13</td>\n",
       "      <td>2015-06-02</td>\n",
       "    </tr>\n",
       "    <tr>\n",
       "      <th>1937</th>\n",
       "      <td>Wyoming</td>\n",
       "      <td>312.84</td>\n",
       "      <td>147</td>\n",
       "      <td>317.38</td>\n",
       "      <td>226</td>\n",
       "      <td>0.00</td>\n",
       "      <td>13</td>\n",
       "      <td>2015-06-03</td>\n",
       "    </tr>\n",
       "    <tr>\n",
       "      <th>2702</th>\n",
       "      <td>Wyoming</td>\n",
       "      <td>313.72</td>\n",
       "      <td>148</td>\n",
       "      <td>317.38</td>\n",
       "      <td>226</td>\n",
       "      <td>0.00</td>\n",
       "      <td>13</td>\n",
       "      <td>2015-06-04</td>\n",
       "    </tr>\n",
       "    <tr>\n",
       "      <th>3467</th>\n",
       "      <td>Wyoming</td>\n",
       "      <td>313.72</td>\n",
       "      <td>148</td>\n",
       "      <td>317.38</td>\n",
       "      <td>226</td>\n",
       "      <td>0.00</td>\n",
       "      <td>13</td>\n",
       "      <td>2015-06-05</td>\n",
       "    </tr>\n",
       "    <tr>\n",
       "      <th>4232</th>\n",
       "      <td>Wyoming</td>\n",
       "      <td>313.72</td>\n",
       "      <td>148</td>\n",
       "      <td>317.38</td>\n",
       "      <td>226</td>\n",
       "      <td>0.00</td>\n",
       "      <td>13</td>\n",
       "      <td>2015-06-06</td>\n",
       "    </tr>\n",
       "    <tr>\n",
       "      <th>4997</th>\n",
       "      <td>Wyoming</td>\n",
       "      <td>313.72</td>\n",
       "      <td>148</td>\n",
       "      <td>317.38</td>\n",
       "      <td>226</td>\n",
       "      <td>0.00</td>\n",
       "      <td>13</td>\n",
       "      <td>2015-06-07</td>\n",
       "    </tr>\n",
       "    <tr>\n",
       "      <th>5762</th>\n",
       "      <td>Wyoming</td>\n",
       "      <td>313.72</td>\n",
       "      <td>148</td>\n",
       "      <td>317.38</td>\n",
       "      <td>226</td>\n",
       "      <td>0.00</td>\n",
       "      <td>13</td>\n",
       "      <td>2015-06-08</td>\n",
       "    </tr>\n",
       "    <tr>\n",
       "      <th>6527</th>\n",
       "      <td>Wyoming</td>\n",
       "      <td>313.72</td>\n",
       "      <td>148</td>\n",
       "      <td>317.38</td>\n",
       "      <td>226</td>\n",
       "      <td>0.00</td>\n",
       "      <td>13</td>\n",
       "      <td>2015-06-09</td>\n",
       "    </tr>\n",
       "    <tr>\n",
       "      <th>7343</th>\n",
       "      <td>Wyoming</td>\n",
       "      <td>313.72</td>\n",
       "      <td>148</td>\n",
       "      <td>317.38</td>\n",
       "      <td>226</td>\n",
       "      <td>0.00</td>\n",
       "      <td>13</td>\n",
       "      <td>2015-06-10</td>\n",
       "    </tr>\n",
       "    <tr>\n",
       "      <th>8159</th>\n",
       "      <td>Wyoming</td>\n",
       "      <td>313.72</td>\n",
       "      <td>148</td>\n",
       "      <td>317.38</td>\n",
       "      <td>226</td>\n",
       "      <td>0.00</td>\n",
       "      <td>13</td>\n",
       "      <td>2015-06-11</td>\n",
       "    </tr>\n",
       "  </tbody>\n",
       "</table>\n",
       "<p>22899 rows × 8 columns</p>\n",
       "</div>"
      ],
      "text/plain": [
       "         State   HighQ  HighQN    MedQ  MedQN    LowQ  LowQN       date\n",
       "20094  Alabama  339.65    1033  198.04    926  147.15    122 2013-12-27\n",
       "20859  Alabama  339.65    1033  198.04    926  147.15    122 2013-12-28\n",
       "21573  Alabama  339.75    1036  198.26    929  149.49    123 2013-12-29\n",
       "22287  Alabama  339.75    1036  198.81    930  149.49    123 2013-12-30\n",
       "22797  Alabama  339.42    1040  198.68    932  149.49    123 2013-12-31\n",
       "0      Alabama  339.06    1042  198.64    933  149.49    123 2014-01-01\n",
       "765    Alabama  339.20    1043  198.64    933  149.49    123 2014-01-02\n",
       "1479   Alabama  339.20    1043  198.64    933  148.48    124 2014-01-03\n",
       "2244   Alabama  339.20    1043  198.43    934  148.48    124 2014-01-04\n",
       "3009   Alabama  339.32    1046  198.13    936  148.48    124 2014-01-05\n",
       "3774   Alabama  339.18    1050  198.20    941  148.48    124 2014-01-06\n",
       "4539   Alabama  339.59    1053  199.15    943  148.48    124 2014-01-07\n",
       "5304   Alabama  340.27    1057  199.43    946  148.48    124 2014-01-08\n",
       "6069   Alabama  340.23    1058  199.66    950  148.48    124 2014-01-09\n",
       "6834   Alabama  340.07    1059  199.53    952  148.48    124 2014-01-10\n",
       "7650   Alabama  340.20    1060  199.53    952  148.48    124 2014-01-11\n",
       "8466   Alabama  340.20    1060  199.57    955  149.60    125 2014-01-12\n",
       "9231   Alabama  340.18    1061  199.47    959  149.60    125 2014-01-13\n",
       "9996   Alabama  339.92    1067  198.84    961  149.60    125 2014-01-14\n",
       "10761  Alabama  340.09    1068  198.74    962  150.34    126 2014-01-15\n",
       "11526  Alabama  340.10    1069  198.74    962  153.19    127 2014-01-16\n",
       "12291  Alabama  340.10    1069  199.35    965  152.11    128 2014-01-17\n",
       "13005  Alabama  340.10    1069  199.31    966  152.11    128 2014-01-18\n",
       "13719  Alabama  339.96    1070  199.31    966  152.11    128 2014-01-19\n",
       "14433  Alabama  340.06    1071  199.31    967  152.02    129 2014-01-20\n",
       "15147  Alabama  339.44    1073  199.40    969  152.02    129 2014-01-21\n",
       "15861  Alabama  339.49    1074  199.38    971  152.02    129 2014-01-22\n",
       "16575  Alabama  339.13    1076  199.38    971  152.02    129 2014-01-23\n",
       "17289  Alabama  339.14    1077  199.38    971  152.02    129 2014-01-24\n",
       "18003  Alabama  339.14    1077  199.39    972  152.02    129 2014-01-25\n",
       "...        ...     ...     ...     ...    ...     ...    ...        ...\n",
       "9638   Wyoming  314.89     146  345.46    222    0.00     13 2015-05-13\n",
       "10403  Wyoming  314.89     146  345.46    222    0.00     13 2015-05-14\n",
       "11168  Wyoming  314.89     146  345.46    222    0.00     13 2015-05-15\n",
       "11933  Wyoming  314.89     146  345.46    222    0.00     13 2015-05-16\n",
       "12647  Wyoming  314.89     146  345.46    222    0.00     13 2015-05-17\n",
       "13361  Wyoming  314.89     146  345.46    222    0.00     13 2015-05-18\n",
       "14075  Wyoming  314.89     146  345.46    222    0.00     13 2015-05-19\n",
       "14789  Wyoming  314.89     146  345.46    222    0.00     13 2015-05-20\n",
       "15503  Wyoming  314.89     146  346.59    223    0.00     13 2015-05-21\n",
       "16217  Wyoming  314.89     146  346.59    223    0.00     13 2015-05-22\n",
       "16931  Wyoming  314.89     146  346.59    223    0.00     13 2015-05-23\n",
       "17645  Wyoming  314.89     146  345.75    224    0.00     13 2015-05-24\n",
       "18359  Wyoming  314.89     146  316.65    225    0.00     13 2015-05-25\n",
       "19073  Wyoming  314.89     146  317.38    226    0.00     13 2015-05-26\n",
       "19787  Wyoming  312.84     147  317.38    226    0.00     13 2015-05-27\n",
       "20552  Wyoming  312.84     147  317.38    226    0.00     13 2015-05-28\n",
       "21266  Wyoming  312.84     147  317.38    226    0.00     13 2015-05-29\n",
       "21980  Wyoming  312.84     147  317.38    226    0.00     13 2015-05-30\n",
       "22643  Wyoming  312.84     147  317.38    226    0.00     13 2015-05-31\n",
       "458    Wyoming  312.84     147  317.38    226    0.00     13 2015-06-01\n",
       "1223   Wyoming  312.84     147  317.38    226    0.00     13 2015-06-02\n",
       "1937   Wyoming  312.84     147  317.38    226    0.00     13 2015-06-03\n",
       "2702   Wyoming  313.72     148  317.38    226    0.00     13 2015-06-04\n",
       "3467   Wyoming  313.72     148  317.38    226    0.00     13 2015-06-05\n",
       "4232   Wyoming  313.72     148  317.38    226    0.00     13 2015-06-06\n",
       "4997   Wyoming  313.72     148  317.38    226    0.00     13 2015-06-07\n",
       "5762   Wyoming  313.72     148  317.38    226    0.00     13 2015-06-08\n",
       "6527   Wyoming  313.72     148  317.38    226    0.00     13 2015-06-09\n",
       "7343   Wyoming  313.72     148  317.38    226    0.00     13 2015-06-10\n",
       "8159   Wyoming  313.72     148  317.38    226    0.00     13 2015-06-11\n",
       "\n",
       "[22899 rows x 8 columns]"
      ]
     },
     "execution_count": 24,
     "metadata": {},
     "output_type": "execute_result"
    }
   ],
   "source": [
    "prices_sorted = prices_pd.sort_values(by=['State', 'date'], inplace=False)\n",
    "prices_sorted.fillna(0.0)"
   ]
  },
  {
   "cell_type": "markdown",
   "metadata": {},
   "source": [
    "**Réponse:**\n",
    "\n",
    "La commande `prices_sorted = prices_pd.sort_values(by=['State', 'date'], inplace=False)` trie le DataFrame par ordre alphabétique (noms des états) et par date croissante.\n",
    "\n",
    "- `inplace=False` : réalise l'opération et retourne une copie du résultat, ici `prices_sorted`.\n",
    "Le DF d'origine reste inchangé \n",
    "\n",
    "- `inplace=True` : réalise l'opération sur le DF d'origine et ne retourne rien.\n",
    "Dans ce cas `prices_pd` serait modifié et `prices_sorted = None`."
   ]
  },
  {
   "cell_type": "markdown",
   "metadata": {},
   "source": [
    "<font color=\"RED\" size=\"+1\">**[Q]**</font> **Changements des résultats**\n",
    "\n",
    "\n",
    "Recalculer la moyenne des prix pour la qualité <tt>Low</tt>. Qu'en est-il maintenant ? "
   ]
  },
  {
   "cell_type": "code",
   "execution_count": 25,
   "metadata": {},
   "outputs": [
    {
     "name": "stdout",
     "output_type": "stream",
     "text": [
      "Prix moyen par état pour la qualité Low (avec ma fonction): \n",
      "\n",
      "\t Alabama  :  79.13917594654792\n",
      "\t Alaska  :  208.70895322939893\n",
      "\t Arizona  :  102.85100222717139\n",
      "\t Arkansas  :  68.63608017817381\n",
      "\t California  :  102.83436525612471\n",
      "\t Colorado  :  122.23458797327376\n",
      "\t Connecticut  :  136.37420935412027\n",
      "\t Delaware  :  110.51476614699361\n",
      "\t District of Columbia  :  113.48859688196033\n",
      "\t Florida  :  82.57394209354102\n",
      "\t Georgia  :  80.9886636971046\n",
      "\t Hawaii  :  90.05948775055701\n",
      "\t Idaho  :  75.43654788418687\n",
      "\t Illinois  :  100.54327394209346\n",
      "\t Indiana  :  85.66026726057915\n",
      "\t Iowa  :  133.98690423162589\n",
      "\t Kansas  :  64.78445434298439\n",
      "\t Kentucky  :  66.91750556792879\n",
      "\t Louisiana  :  79.10919821826283\n",
      "\t Maine  :  132.0229398663692\n",
      "\t Maryland  :  102.50510022271708\n",
      "\t Massachusetts  :  118.61233853006671\n",
      "\t Michigan  :  136.16942093541206\n",
      "\t Minnesota  :  98.46182628062355\n",
      "\t Mississippi  :  76.9397995545655\n",
      "\t Missouri  :  79.50351893095755\n",
      "\t Montana  :  355.64356347438775\n",
      "\t Nebraska  :  74.322516703786\n",
      "\t Nevada  :  130.32046770601383\n",
      "\t New Hampshire  :  344.8407349665922\n",
      "\t New Jersey  :  123.21614699331845\n",
      "\t New Mexico  :  43.59824053452119\n",
      "\t New York  :  108.51732739420939\n",
      "\t North Carolina  :  81.28322939866358\n",
      "\t North Dakota  :  180.00069042316235\n",
      "\t Ohio  :  89.02238307349681\n",
      "\t Oklahoma  :  64.61988864142536\n",
      "\t Oregon  :  91.7192873051224\n",
      "\t Pennsylvania  :  104.14610244988869\n",
      "\t Rhode Island  :  109.41238307349649\n",
      "\t South Carolina  :  99.42351893095778\n",
      "\t South Dakota  :  67.00436525612443\n",
      "\t Tennessee  :  102.47086859688194\n",
      "\t Texas  :  77.26908685968816\n",
      "\t Utah  :  104.47732739420944\n",
      "\t Vermont  :  102.19015590200472\n",
      "\t Virginia  :  120.85933184855243\n",
      "\t Washington  :  77.17233853006691\n",
      "\t West Virginia  :  83.92665924276167\n",
      "\t Wisconsin  :  129.11971046770591\n",
      "\t Wyoming  :  86.9367483296214\n",
      "\n",
      "Prix moyen par état pour la qualité Low (avec groupby): \n",
      "\n"
     ]
    },
    {
     "data": {
      "text/plain": [
       "State\n",
       "Alabama                  79.139176\n",
       "Alaska                  208.708953\n",
       "Arizona                 102.851002\n",
       "Arkansas                 68.636080\n",
       "California              102.834365\n",
       "Colorado                122.234588\n",
       "Connecticut             136.374209\n",
       "Delaware                110.514766\n",
       "District of Columbia    113.488597\n",
       "Florida                  82.573942\n",
       "Georgia                  80.988664\n",
       "Hawaii                   90.059488\n",
       "Idaho                    75.436548\n",
       "Illinois                100.543274\n",
       "Indiana                  85.660267\n",
       "Iowa                    133.986904\n",
       "Kansas                   64.784454\n",
       "Kentucky                 66.917506\n",
       "Louisiana                79.109198\n",
       "Maine                   132.022940\n",
       "Maryland                102.505100\n",
       "Massachusetts           118.612339\n",
       "Michigan                136.169421\n",
       "Minnesota                98.461826\n",
       "Mississippi              76.939800\n",
       "Missouri                 79.503519\n",
       "Montana                 355.643563\n",
       "Nebraska                 74.322517\n",
       "Nevada                  130.320468\n",
       "New Hampshire           344.840735\n",
       "New Jersey              123.216147\n",
       "New Mexico               43.598241\n",
       "New York                108.517327\n",
       "North Carolina           81.283229\n",
       "North Dakota            180.000690\n",
       "Ohio                     89.022383\n",
       "Oklahoma                 64.619889\n",
       "Oregon                   91.719287\n",
       "Pennsylvania            104.146102\n",
       "Rhode Island            109.412383\n",
       "South Carolina           99.423519\n",
       "South Dakota             67.004365\n",
       "Tennessee               102.470869\n",
       "Texas                    77.269087\n",
       "Utah                    104.477327\n",
       "Vermont                 102.190156\n",
       "Virginia                120.859332\n",
       "Washington               77.172339\n",
       "West Virginia            83.926659\n",
       "Wisconsin               129.119710\n",
       "Wyoming                  86.936748\n",
       "Name: LowQ, dtype: float64"
      ]
     },
     "execution_count": 25,
     "metadata": {},
     "output_type": "execute_result"
    }
   ],
   "source": [
    "# prices_pd trié par état et date, valeurs `nan` remplacées par 0.0\n",
    "\n",
    "filled_prices_pd = prices_sorted.fillna(0.0)\n",
    "\n",
    "# 1ère méthode: avec une boucle sur les états\n",
    "\n",
    "print(\"Prix moyen par état pour la qualité Low (avec ma fonction): \\n\")\n",
    "\n",
    "for etat in les_etats:\n",
    "    print(\"\\t\", etat, \" : \", moyenne(filled_prices_pd.loc[filled_prices_pd['State']==etat, 'LowQ']))\n",
    "\n",
    "# 2ème méthode: avec la fonction groupby\n",
    "\n",
    "print(\"\\nPrix moyen par état pour la qualité Low (avec groupby): \\n\")\n",
    "\n",
    "groupe_etats = filled_prices_pd.groupby('State')\n",
    "groupe_etats['LowQ'].mean()"
   ]
  },
  {
   "cell_type": "markdown",
   "metadata": {},
   "source": [
    "**Réponse:**\n",
    "Maintenant que nous avons remplacé les `nan`par des valeurs réelles, nous ne nous retrouvons plus avec des moyennes à `nan` pour ma fonction `moyenne`."
   ]
  },
  {
   "cell_type": "markdown",
   "metadata": {},
   "source": [
    "<font color=\"RED\" size=\"+1\">**[Q]**</font> **Tracé d'histogrammes**\n",
    "\n",
    "Donner les instructions Python pour tracer l'histogramme des moyennes des prix (<tt>LowQ</tt>) par état. \n",
    "\n",
    "Pour vous aider à construire un histogramme, vous pouvez étudier la page suivante:\n",
    "<http://matplotlib.org/examples/lines_bars_and_markers/barh_demo.html>"
   ]
  },
  {
   "cell_type": "code",
   "execution_count": 26,
   "metadata": {},
   "outputs": [
    {
     "data": {
      "image/png": "[encoded data removed]",
      "text/plain": [
       "<Figure size 432x288 with 1 Axes>"
      ]
     },
     "metadata": {
      "needs_background": "light"
     },
     "output_type": "display_data"
    }
   ],
   "source": [
    "fig, ax = plt.subplots()\n",
    "\n",
    "# Liste des états en ordonnée\n",
    "states = np.unique(prices_pd['State'].values)\n",
    "y_pos = np.arange(len(states))\n",
    "\n",
    "# Liste des moyennes des prix LowQ par état en abscisse\n",
    "filled_prices_pd = prices_pd.fillna(0.0).groupby('State')\n",
    "prices = filled_prices_pd['LowQ'].mean()\n",
    "\n",
    "ax.barh(y_pos, prices, color=\"pink\")\n",
    "ax.set_yticks(y_pos)\n",
    "ax.set_yticklabels(states)\n",
    "\n",
    "ax.set_xlabel(\"Moyenne des prix LowQ\")\n",
    "ax.set_ylabel(\"Etats\")\n",
    "ax.set_title(\"Histogramme des moyennes des prix LowQ par état\")\n",
    "ax.grid(False)\n",
    "\n",
    "plt.show()"
   ]
  },
  {
   "cell_type": "markdown",
   "metadata": {},
   "source": [
    "<font color=\"RED\" size=\"+1\">**[Q]**</font> **Estimation de densité**\n",
    "\n",
    "Nous allons maintenant nous intéresser au calcul du nombre d'états concernés par une fourchette de prix. Pour cela:\n",
    "* Calculer le tableau des prix moyens de la facon suivante\n",
    "    \n"
   ]
  },
  {
   "cell_type": "code",
   "execution_count": 27,
   "metadata": {},
   "outputs": [
    {
     "name": "stdout",
     "output_type": "stream",
     "text": [
      "                            LowQ\n",
      "State                           \n",
      "Alabama               146.832603\n",
      "Alaska                387.232727\n",
      "Arizona               190.826860\n",
      "Arkansas              127.345455\n",
      "California            190.795992\n",
      "Colorado              226.790620\n",
      "Connecticut           253.024876\n",
      "Delaware              205.045992\n",
      "District of Columbia  210.563554\n",
      "Florida               153.205372\n",
      "Georgia               150.264091\n",
      "Hawaii                167.093843\n",
      "Idaho                 139.962851\n",
      "Illinois              186.545165\n",
      "Indiana               158.931653\n",
      "Iowa                  248.595537\n",
      "Kansas                120.199256\n",
      "Kentucky              124.156860\n",
      "Louisiana             146.776983\n",
      "Maine                 244.951653\n",
      "Maryland              190.185083\n",
      "Massachusetts         220.070000\n",
      "Michigan              252.644917\n",
      "Minnesota             182.683306\n",
      "Mississippi           142.751942\n",
      "Missouri              147.508595\n",
      "Montana               659.851074\n",
      "Nebraska              137.895909\n",
      "Nevada                241.792934\n",
      "New Hampshire         639.807810\n",
      "New Jersey            228.611777\n",
      "New Mexico             80.890950\n",
      "New York              201.340000\n",
      "North Carolina        150.810620\n",
      "North Dakota          333.968223\n",
      "Ohio                  165.169628\n",
      "Oklahoma              119.893926\n",
      "Oregon                170.173388\n",
      "Pennsylvania          193.229752\n",
      "Rhode Island          203.000661\n",
      "South Carolina        184.467603\n",
      "South Dakota          124.318017\n",
      "Tennessee             190.121570\n",
      "Texas                 143.362893\n",
      "Utah                  193.844298\n",
      "Vermont               189.600744\n",
      "Virginia              224.239008\n",
      "Washington            143.183388\n",
      "West Virginia         155.715165\n",
      "Wisconsin             239.565083\n",
      "Wyoming               161.300000\n",
      "===========\n",
      "[146.83260331 387.23272727 190.8268595  127.34545455 190.79599174\n",
      " 226.79061983 253.02487603 205.04599174 210.56355372 153.2053719\n",
      " 150.26409091 167.09384298 139.96285124 186.54516529 158.93165289\n",
      " 248.59553719 120.1992562  124.1568595  146.77698347 244.95165289\n",
      " 190.18508264 220.07       252.64491736 182.68330579 142.75194215\n",
      " 147.50859504 659.85107438 137.89590909 241.79293388 639.80780992\n",
      " 228.61177686  80.89095041 201.34       150.81061983 333.96822314\n",
      " 165.1696281  119.89392562 170.17338843 193.22975207 203.00066116\n",
      " 184.46760331 124.31801653 190.12157025 143.36289256 193.84429752\n",
      " 189.6007438  224.23900826 143.18338843 155.71516529 239.56508264\n",
      " 161.3       ]\n"
     ]
    }
   ],
   "source": [
    "prix_moyens=prices_pd[[\"State\",\"LowQ\"]].groupby([\"State\"]).mean()\n",
    "print(prix_moyens)\n",
    "print(\"===========\")\n",
    "prix_moyens=prix_moyens.values.ravel()\n",
    "print(prix_moyens)"
   ]
  },
  {
   "cell_type": "markdown",
   "metadata": {},
   "source": [
    "<font color=\"RED\" size=\"+1\">**[Q]**</font> **Bornes de variations**\n",
    "\n",
    "* Calculer les valeurs min et max des prix moyens"
   ]
  },
  {
   "cell_type": "code",
   "execution_count": 28,
   "metadata": {},
   "outputs": [
    {
     "name": "stdout",
     "output_type": "stream",
     "text": [
      "Prix moyen min :  80.89095041322321\n",
      "Prix moyen max :  659.8510743801646\n"
     ]
    }
   ],
   "source": [
    "print(\"Prix moyen min : \", min(prix_moyens))\n",
    "print(\"Prix moyen max : \", max(prix_moyens))"
   ]
  },
  {
   "cell_type": "markdown",
   "metadata": {},
   "source": [
    "<font color=\"RED\" size=\"+1\">**[Q]**</font> **Calcul d'un effectif**\n",
    "\n",
    "Prendre un intervalle de discrétisation de taille 20, et calculer l'effectif (sous forme d'un vecteur) du nombre d'états par ''bins''. Dessiner l'histogramme correspondant"
   ]
  },
  {
   "cell_type": "code",
   "execution_count": 29,
   "metadata": {},
   "outputs": [
    {
     "data": {
      "image/png": "[encoded data removed]",
      "text/plain": [
       "<Figure size 432x288 with 1 Axes>"
      ]
     },
     "metadata": {
      "needs_background": "light"
     },
     "output_type": "display_data"
    }
   ],
   "source": [
    "################# Traçage de l'histogramme #################\n",
    "\n",
    "# NOTE: bins est le nombre de classes (intervalles) que l'on considère pour tracer notre histogramme\n",
    "#       Si tout intervalle est de taille 20, alors bins vaut bins = (max(prix_moyen) - min(taille_moyen))/20\n",
    "\n",
    "plt.hist(prix_moyens, bins=math.ceil((max(prix_moyens).item()-min(prix_moyens).item())/20))\n",
    "plt.ylabel(\"Prix moyens LowQ par état\")\n",
    "plt.xlabel(\"Effectif\")\n",
    "plt.show()"
   ]
  },
  {
   "cell_type": "markdown",
   "metadata": {},
   "source": [
    "<font color=\"RED\" size=\"+1\">**[Q]**</font> **Changement d'échelle**\n",
    "\n",
    "Prendre maintenant un intervalle de taille 40."
   ]
  },
  {
   "cell_type": "code",
   "execution_count": 30,
   "metadata": {},
   "outputs": [
    {
     "name": "stdout",
     "output_type": "stream",
     "text": [
      "Pour des intervalles de taille 40, il nous faut bins =  15  intervalles en tout\n"
     ]
    },
    {
     "data": {
      "image/png": "[encoded data removed]",
      "text/plain": [
       "<Figure size 432x288 with 1 Axes>"
      ]
     },
     "metadata": {
      "needs_background": "light"
     },
     "output_type": "display_data"
    }
   ],
   "source": [
    "# Intervalle de taille 40, donc bins = (max(prix_moyen) - min(taille_moyen))/40\n",
    "\n",
    "print(\"Pour des intervalles de taille 40, il nous faut bins = \", math.ceil((max(prix_moyens).item()-min(prix_moyens).item())/40),\n",
    "     \" intervalles en tout\")\n",
    "\n",
    "plt.hist(prix_moyens, bins = math.ceil((max(prix_moyens).item()-min(prix_moyens).item())/40))\n",
    "plt.ylabel(\"Prix moyens LowQ par état\")\n",
    "plt.xlabel(\"Effectif\")\n",
    "plt.show()"
   ]
  },
  {
   "cell_type": "markdown",
   "metadata": {},
   "source": [
    "On peut faire cela de la manière suivante avec Pandas:"
   ]
  },
  {
   "cell_type": "code",
   "execution_count": 31,
   "metadata": {},
   "outputs": [
    {
     "data": {
      "text/plain": [
       "<matplotlib.axes._subplots.AxesSubplot at 0x142b7a4edd8>"
      ]
     },
     "execution_count": 31,
     "metadata": {},
     "output_type": "execute_result"
    },
    {
     "data": {
      "image/png": "[encoded data removed]",
      "text/plain": [
       "<Figure size 432x288 with 1 Axes>"
      ]
     },
     "metadata": {
      "needs_background": "light"
     },
     "output_type": "display_data"
    }
   ],
   "source": [
    "effectif=pd.cut(prix_moyens,20)\n",
    "effectif2=pd.value_counts(effectif)\n",
    "effectif3=effectif2.reindex(effectif.categories)\n",
    "effectif3.plot(kind='bar')"
   ]
  },
  {
   "cell_type": "markdown",
   "metadata": {},
   "source": [
    "Et comme cela avec Numpy:"
   ]
  },
  {
   "cell_type": "code",
   "execution_count": 32,
   "metadata": {},
   "outputs": [
    {
     "data": {
      "text/plain": [
       "(array([ 1.,  6., 15., 11.,  6.,  8.,  0.,  0.,  1.,  0.,  1.,  0.,  0.,\n",
       "         0.,  0.,  0.,  0.,  0.,  0.,  2.]),\n",
       " array([ 80.89095041, 109.83895661, 138.78696281, 167.73496901,\n",
       "        196.68297521, 225.6309814 , 254.5789876 , 283.5269938 ,\n",
       "        312.475     , 341.4230062 , 370.3710124 , 399.3190186 ,\n",
       "        428.26702479, 457.21503099, 486.16303719, 515.11104339,\n",
       "        544.05904959, 573.00705579, 601.95506198, 630.90306818,\n",
       "        659.85107438]),\n",
       " <a list of 20 Patch objects>)"
      ]
     },
     "execution_count": 32,
     "metadata": {},
     "output_type": "execute_result"
    },
    {
     "data": {
      "image/png": "[encoded data removed]",
      "text/plain": [
       "<Figure size 432x288 with 1 Axes>"
      ]
     },
     "metadata": {
      "needs_background": "light"
     },
     "output_type": "display_data"
    }
   ],
   "source": [
    "plt.hist(prix_moyens,bins=20)"
   ]
  },
  {
   "cell_type": "markdown",
   "metadata": {},
   "source": [
    "L'estimation de densité en pandas peut se faire ainsi"
   ]
  },
  {
   "cell_type": "code",
   "execution_count": 33,
   "metadata": {},
   "outputs": [
    {
     "data": {
      "text/plain": [
       "<matplotlib.axes._subplots.AxesSubplot at 0x142b7a43e80>"
      ]
     },
     "execution_count": 33,
     "metadata": {},
     "output_type": "execute_result"
    },
    {
     "data": {
      "image/png": "[encoded data removed]",
      "text/plain": [
       "<Figure size 432x288 with 1 Axes>"
      ]
     },
     "metadata": {
      "needs_background": "light"
     },
     "output_type": "display_data"
    }
   ],
   "source": [
    "effectif=pd.DataFrame(prix_moyens)\n",
    "effectif.plot(kind='kde')"
   ]
  },
  {
   "cell_type": "markdown",
   "metadata": {},
   "source": [
    "### Densité cumulée\n",
    "\n",
    "<font color=\"RED\" size=\"+1\">**[Q]**</font> **Calcul de la densité cumulée**\n",
    "\n",
    "\n",
    "Calculer la densité cumulée à partir des prix moyens, avec un intervalle de discrétisation donné et la représenter graphiquement. \n",
    "\n",
    "La méthode doit rendre deux tableaux: l'abscisse $X$ (les prix moyens possibles entre prix min et prix max), et la densité associée"
   ]
  },
  {
   "cell_type": "code",
   "execution_count": 35,
   "metadata": {},
   "outputs": [
    {
     "data": {
      "image/png": "[encoded data removed]",
      "text/plain": [
       "<Figure size 432x288 with 1 Axes>"
      ]
     },
     "metadata": {
      "needs_background": "light"
     },
     "output_type": "display_data"
    }
   ],
   "source": [
    "# Si I intervalle de discrétisation (i.e. taille de chaque intervalle), alors le nombre d'intervalles à considérer est de:\n",
    "# n = (max(prix_moyens).item()-min(prix_moyens).item())/I\n",
    "\n",
    "def densite_cumulee(prix_moyens, I):\n",
    "    n = math.ceil((max(prix_moyens).item()-min(prix_moyens).item())/I)\n",
    "    X = [min(prix_moyens) + I*j for j in range(n)]\n",
    "    \n",
    "    prix_moyens_sorted = sorted(prix_moyens.tolist())\n",
    "    densite = [0]*len(X)\n",
    "    \n",
    "    for prix in prix_moyens_sorted:\n",
    "        for i in range(len(X)):\n",
    "            if prix <= X[i]:\n",
    "                densite[i] += 1\n",
    "                \n",
    "    return X, densite\n",
    "    \n",
    "\n",
    "####### Affichage graphique de la densité cumulée\n",
    "\n",
    "X, densite = densite_cumulee(prix_moyens, 20)\n",
    "plt.plot(X, densite)\n",
    "plt.title(\"Densité cumulée\")\n",
    "plt.xlabel(\"Prix moyens\")\n",
    "plt.show()"
   ]
  },
  {
   "cell_type": "markdown",
   "metadata": {},
   "source": [
    "<font color=\"RED\" size=\"+1\">**[Q]**</font> **Quartiles**\n",
    "\n",
    "Ecrire la fonction Q(alpha,x,y) qui permet de trouver le quartile(alpha,x,y).\n",
    "- quartile(0.5,x,densite) correspondra à la médiane. \n",
    "\n",
    "Calculer et représenter graphiquement le boxplot.\n",
    "\n",
    "Remarque: un boxplot en pandas se fait ainsi:\n",
    "        \n",
    "    a=pd.DataFrame(prix_moyens)\n",
    "    a.boxplot()\n"
   ]
  },
  {
   "cell_type": "code",
   "execution_count": null,
   "metadata": {},
   "outputs": [],
   "source": []
  },
  {
   "cell_type": "code",
   "execution_count": null,
   "metadata": {},
   "outputs": [],
   "source": [
    "# NOTES: 1er quartile: 25% de la population doit être représentée"
   ]
  },
  {
   "cell_type": "markdown",
   "metadata": {},
   "source": [
    "### Variance\n",
    "\n",
    "<font color=\"RED\" size=\"+1\">**[Q]**</font> **Calcul de variances**\n",
    "\n",
    "On souhaite maintenant rajouter une colonne <tt>HighQ_var</tt> aux données originales contenant la variance des prix par état. Donner les intructions Python correspondantes.\n",
    "\n",
    "**ATTENTION**, cela suppose de traiter les états (State) les uns après les autres..."
   ]
  },
  {
   "cell_type": "code",
   "execution_count": 36,
   "metadata": {},
   "outputs": [
    {
     "data": {
      "text/plain": [
       "State\n",
       "Alabama                   2.370749\n",
       "Alaska                   31.137567\n",
       "Arizona                   4.063247\n",
       "Arkansas                 47.141986\n",
       "California                2.982686\n",
       "Colorado                  6.356718\n",
       "Connecticut              18.372574\n",
       "Delaware                 24.827685\n",
       "District of Columbia      3.976920\n",
       "Florida                   5.258257\n",
       "Georgia                  13.400555\n",
       "Hawaii                    9.469260\n",
       "Idaho                     0.840436\n",
       "Illinois                  5.790658\n",
       "Indiana                   3.453509\n",
       "Iowa                      7.875726\n",
       "Kansas                    3.951313\n",
       "Kentucky                  1.074988\n",
       "Louisiana                23.778186\n",
       "Maine                    22.066151\n",
       "Maryland                 34.891397\n",
       "Massachusetts            12.740908\n",
       "Michigan                 18.449891\n",
       "Minnesota                79.051308\n",
       "Mississippi               7.309370\n",
       "Missouri                 54.772887\n",
       "Montana                  10.967851\n",
       "Nebraska                 30.419953\n",
       "Nevada                    1.848997\n",
       "New Hampshire            51.118775\n",
       "New Jersey               12.833771\n",
       "New Mexico                6.427070\n",
       "New York                 12.245147\n",
       "North Carolina           16.311250\n",
       "North Dakota             55.694703\n",
       "Ohio                      2.698508\n",
       "Oklahoma                 31.829491\n",
       "Oregon                    7.561688\n",
       "Pennsylvania             12.866467\n",
       "Rhode Island             44.814466\n",
       "South Carolina           14.913978\n",
       "South Dakota            138.362692\n",
       "Tennessee                14.840045\n",
       "Texas                    16.169573\n",
       "Utah                      4.275242\n",
       "Vermont                  12.881744\n",
       "Virginia                 11.862465\n",
       "Washington                1.347089\n",
       "West Virginia             8.248240\n",
       "Wisconsin                11.744638\n",
       "Wyoming                 219.612495\n",
       "Name: HighQ, dtype: float64"
      ]
     },
     "execution_count": 36,
     "metadata": {},
     "output_type": "execute_result"
    }
   ],
   "source": []
  },
  {
   "cell_type": "markdown",
   "metadata": {},
   "source": [
    "# Travail de synthèse : La Californie\n",
    "\n",
    "Pandas permet de faire la synthèse de données de la manière suivante (pour le DataFrame de nom <tt>df</tt>): \n",
    "    \n",
    "    df.describe()\n",
    "    \n",
    "\n",
    "<font color=\"RED\" size=\"+1\">**[Q]**</font> Vérifier que les valeurs trouvées sur l'état de la Californie correspondent aux valeurs trouvées grâce à vos différentes fonctions. \n",
    "\n",
    "Pour cela, donner dans ce qui suit le code qui utilise vos fonctions (moyennes, variance, et quartiles) ainsi que le résutlats de la fonction <tt>describe</tt>.\n"
   ]
  },
  {
   "cell_type": "code",
   "execution_count": null,
   "metadata": {},
   "outputs": [],
   "source": []
  },
  {
   "cell_type": "markdown",
   "metadata": {},
   "source": [
    "<font color=\"RED\" size=\"+1\">**[Q]**</font> **Matrice de corrélation**\n",
    "\n",
    "\n",
    "Nous allons maintenant nous intéresser à calculer la corrélation entre les prix à New York et les prix en Californie.\n",
    "\n",
    "Commencer par représenter le nuage des points des prix (par date) en Californie (axe $X$) et à New York (axe $Y$) pour la bonne qualité.\n",
    "\n",
    "Pour cela,  on commence par créer un DataFrame avec ces informations:"
   ]
  },
  {
   "cell_type": "code",
   "execution_count": 37,
   "metadata": {},
   "outputs": [
    {
     "data": {
      "text/html": [
       "<div>\n",
       "<style scoped>\n",
       "    .dataframe tbody tr th:only-of-type {\n",
       "        vertical-align: middle;\n",
       "    }\n",
       "\n",
       "    .dataframe tbody tr th {\n",
       "        vertical-align: top;\n",
       "    }\n",
       "\n",
       "    .dataframe thead th {\n",
       "        text-align: right;\n",
       "    }\n",
       "</style>\n",
       "<table border=\"1\" class=\"dataframe\">\n",
       "  <thead>\n",
       "    <tr style=\"text-align: right;\">\n",
       "      <th></th>\n",
       "      <th>State_x</th>\n",
       "      <th>HighQ_x</th>\n",
       "      <th>HighQN_x</th>\n",
       "      <th>MedQ_x</th>\n",
       "      <th>MedQN_x</th>\n",
       "      <th>LowQ_x</th>\n",
       "      <th>LowQN_x</th>\n",
       "      <th>date</th>\n",
       "      <th>State_y</th>\n",
       "      <th>HighQ_y</th>\n",
       "      <th>HighQN_y</th>\n",
       "      <th>MedQ_y</th>\n",
       "      <th>MedQN_y</th>\n",
       "      <th>LowQ_y</th>\n",
       "      <th>LowQN_y</th>\n",
       "    </tr>\n",
       "  </thead>\n",
       "  <tbody>\n",
       "    <tr>\n",
       "      <th>0</th>\n",
       "      <td>California</td>\n",
       "      <td>248.78</td>\n",
       "      <td>12096</td>\n",
       "      <td>193.56</td>\n",
       "      <td>12812</td>\n",
       "      <td>192.92</td>\n",
       "      <td>778</td>\n",
       "      <td>2014-01-01</td>\n",
       "      <td>New York</td>\n",
       "      <td>351.98</td>\n",
       "      <td>5800</td>\n",
       "      <td>268.88</td>\n",
       "      <td>5824</td>\n",
       "      <td>190.38</td>\n",
       "      <td>482</td>\n",
       "    </tr>\n",
       "    <tr>\n",
       "      <th>1</th>\n",
       "      <td>California</td>\n",
       "      <td>243.96</td>\n",
       "      <td>16512</td>\n",
       "      <td>189.35</td>\n",
       "      <td>19151</td>\n",
       "      <td>NaN</td>\n",
       "      <td>1096</td>\n",
       "      <td>2015-01-01</td>\n",
       "      <td>New York</td>\n",
       "      <td>343.80</td>\n",
       "      <td>7840</td>\n",
       "      <td>263.56</td>\n",
       "      <td>8716</td>\n",
       "      <td>NaN</td>\n",
       "      <td>616</td>\n",
       "    </tr>\n",
       "    <tr>\n",
       "      <th>2</th>\n",
       "      <td>California</td>\n",
       "      <td>248.20</td>\n",
       "      <td>12571</td>\n",
       "      <td>192.80</td>\n",
       "      <td>13406</td>\n",
       "      <td>191.94</td>\n",
       "      <td>804</td>\n",
       "      <td>2014-02-01</td>\n",
       "      <td>New York</td>\n",
       "      <td>352.35</td>\n",
       "      <td>6051</td>\n",
       "      <td>268.50</td>\n",
       "      <td>6115</td>\n",
       "      <td>190.16</td>\n",
       "      <td>497</td>\n",
       "    </tr>\n",
       "    <tr>\n",
       "      <th>3</th>\n",
       "      <td>California</td>\n",
       "      <td>243.30</td>\n",
       "      <td>16904</td>\n",
       "      <td>188.95</td>\n",
       "      <td>19764</td>\n",
       "      <td>NaN</td>\n",
       "      <td>1123</td>\n",
       "      <td>2015-02-01</td>\n",
       "      <td>New York</td>\n",
       "      <td>343.09</td>\n",
       "      <td>8058</td>\n",
       "      <td>262.93</td>\n",
       "      <td>9015</td>\n",
       "      <td>NaN</td>\n",
       "      <td>628</td>\n",
       "    </tr>\n",
       "    <tr>\n",
       "      <th>4</th>\n",
       "      <td>California</td>\n",
       "      <td>247.60</td>\n",
       "      <td>12988</td>\n",
       "      <td>192.97</td>\n",
       "      <td>13906</td>\n",
       "      <td>191.40</td>\n",
       "      <td>839</td>\n",
       "      <td>2014-03-01</td>\n",
       "      <td>New York</td>\n",
       "      <td>351.18</td>\n",
       "      <td>6209</td>\n",
       "      <td>267.69</td>\n",
       "      <td>6356</td>\n",
       "      <td>189.64</td>\n",
       "      <td>507</td>\n",
       "    </tr>\n",
       "  </tbody>\n",
       "</table>\n",
       "</div>"
      ],
      "text/plain": [
       "      State_x  HighQ_x  HighQN_x  MedQ_x  MedQN_x  LowQ_x  LowQN_x       date  \\\n",
       "0  California   248.78     12096  193.56    12812  192.92      778 2014-01-01   \n",
       "1  California   243.96     16512  189.35    19151     NaN     1096 2015-01-01   \n",
       "2  California   248.20     12571  192.80    13406  191.94      804 2014-02-01   \n",
       "3  California   243.30     16904  188.95    19764     NaN     1123 2015-02-01   \n",
       "4  California   247.60     12988  192.97    13906  191.40      839 2014-03-01   \n",
       "\n",
       "    State_y  HighQ_y  HighQN_y  MedQ_y  MedQN_y  LowQ_y  LowQN_y  \n",
       "0  New York   351.98      5800  268.88     5824  190.38      482  \n",
       "1  New York   343.80      7840  263.56     8716     NaN      616  \n",
       "2  New York   352.35      6051  268.50     6115  190.16      497  \n",
       "3  New York   343.09      8058  262.93     9015     NaN      628  \n",
       "4  New York   351.18      6209  267.69     6356  189.64      507  "
      ]
     },
     "execution_count": 37,
     "metadata": {},
     "output_type": "execute_result"
    }
   ],
   "source": [
    "prix_ny=prices_pd[prices_pd['State']=='New York']\n",
    "prix_ca=prices_pd[prices_pd['State']=='California']\n",
    "prix_ca_ny=prix_ca.merge(prix_ny,on='date')\n",
    "prix_ca_ny.head()\n",
    "\n",
    "# Exécuter cette boîte et commenter le résultat obtenu"
   ]
  },
  {
   "cell_type": "markdown",
   "metadata": {},
   "source": [
    "<font color=\"RED\" size=\"+1\">**[Q]**</font> **Nuages de points*\n",
    "\n",
    "\n",
    "Représenter graphiquement le nuage des points : voir <http://matplotlib.org/examples/shapes_and_collections/scatter_demo.html>"
   ]
  },
  {
   "cell_type": "code",
   "execution_count": null,
   "metadata": {},
   "outputs": [],
   "source": []
  },
  {
   "cell_type": "markdown",
   "metadata": {},
   "source": [
    "<font color=\"RED\" size=\"+1\">**[Q]**</font> **Corrélations**\n",
    "\n",
    "A l'aide de la fonction moyenne écrite précédemment, écrire une fonction <tt>correlation(x,y)</tt> qui calcule la corrélation lineaire entre deux tableaux Numpy."
   ]
  },
  {
   "cell_type": "code",
   "execution_count": null,
   "metadata": {},
   "outputs": [],
   "source": []
  },
  {
   "cell_type": "code",
   "execution_count": 38,
   "metadata": {},
   "outputs": [],
   "source": [
    "# Appliquer votre fonction avec l'instruction suivante:\n",
    "\n",
    "# print(\"La correlation est :%f\"%correlation(prix_ca_ny[\"HighQ_x\"].values,prix_ca_ny[\"HighQ_y\"].values))"
   ]
  },
  {
   "cell_type": "markdown",
   "metadata": {},
   "source": [
    "<font color=\"RED\" size=\"+1\">**[Q]**</font> **Matrice de corrélations**\n",
    "\n",
    "Calculer la matrice des corrélations pour toutes les combinaisons d'états."
   ]
  },
  {
   "cell_type": "code",
   "execution_count": null,
   "metadata": {},
   "outputs": [],
   "source": []
  },
  {
   "cell_type": "markdown",
   "metadata": {},
   "source": [
    "<font color=\"RED\" size=\"+1\">**[Q]**</font> **D'autres corrélations...**\n",
    "\n",
    "\n",
    "Calculer les correlations entre le prix (<tt>low</tt> et <tt>high</tt>) en fonction du revenu moyen par état disponible dans le tableau <tt>demography_pd</tt> chargé au début de cette feuille Jupyter. \n",
    "\n",
    "Que peut-on en conclure ?"
   ]
  },
  {
   "cell_type": "markdown",
   "metadata": {},
   "source": [
    "# Travail pour la fin de TME + Maison\n",
    "\n",
    "Travail de rendu (à faire avant le prochain TP):\n",
    "* Vous avez implémenté et vu comment calculer tout un ensemble d'indicateurs statistiques assez simples. \n",
    "* Vous avez vu comment produire de jolis graphiques\n",
    "\n",
    "## Travail à faire : proposez une analyse originale a l'aide des données disponibles ici : http://opendata.paris.fr et des indicateurs/graphiques vus en cours et aujourd'hui\n",
    "* Voir  http://matplotlib.org/gallery.html pour les visualisations\n",
    "\n",
    "#### Exemple : \n",
    "* (Récupération de données: ) Télécharger les données ici : \n",
    "https://opendata.paris.fr/explore/dataset/les-1000-titres-les-plus-reserves-dans-les-bibliotheques-de-pret/information/\n",
    "* Calculer l'histogramme et la densité des différents titres \n",
    "* Proposer une visualisation des 10 auteurs les plus demandés (en combinant leur ouvrages)\n",
    "* ==> Proposer un nuage de mots contenus dans les titres à partir des données extraites (outil possible: https://www.jasondavies.com/wordcloud/ ou  https://github.com/mbostock/d3/wiki/Gallery)\n",
    "\n",
    "\n",
    "\n",
    "    "
   ]
  },
  {
   "cell_type": "code",
   "execution_count": null,
   "metadata": {},
   "outputs": [],
   "source": []
  }
 ],
 "metadata": {
  "kernelspec": {
   "display_name": "Python 3",
   "language": "python",
   "name": "python3"
  },
  "language_info": {
   "codemirror_mode": {
    "name": "ipython",
    "version": 3
   },
   "file_extension": ".py",
   "mimetype": "text/x-python",
   "name": "python",
   "nbconvert_exporter": "python",
   "pygments_lexer": "ipython3",
   "version": "3.7.1"
  }
 },
 "nbformat": 4,
 "nbformat_minor": 1
}
